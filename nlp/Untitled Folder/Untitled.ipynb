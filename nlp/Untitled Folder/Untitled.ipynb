{
 "cells": [
  {
   "cell_type": "markdown",
   "metadata": {},
   "source": [
    "# Bag of words meets bags of Popcorn"
   ]
  },
  {
   "cell_type": "markdown",
   "metadata": {},
   "source": [
    "**NLP on movie review datasets and performing sentiment analysis on the basis of movie reviews**"
   ]
  },
  {
   "cell_type": "code",
   "execution_count": 34,
   "metadata": {
    "ExecuteTime": {
     "end_time": "2018-07-16T07:58:00.853607Z",
     "start_time": "2018-07-16T07:58:00.838859Z"
    }
   },
   "outputs": [],
   "source": [
    "import pandas as pd\n",
    "import numpy as np\n",
    "import matplotlib.pyplot as plt\n",
    "%matplotlib inline"
   ]
  },
  {
   "cell_type": "code",
   "execution_count": 5,
   "metadata": {
    "ExecuteTime": {
     "end_time": "2018-07-16T01:11:47.862240Z",
     "start_time": "2018-07-16T01:11:47.394232Z"
    }
   },
   "outputs": [],
   "source": [
    "train = pd.read_csv('labeledTrainData.tsv', sep='\\t', header=0, quoting=3)"
   ]
  },
  {
   "cell_type": "code",
   "execution_count": 6,
   "metadata": {
    "ExecuteTime": {
     "end_time": "2018-07-16T01:11:47.912772Z",
     "start_time": "2018-07-16T01:11:47.888297Z"
    }
   },
   "outputs": [
    {
     "data": {
      "text/html": [
       "<div>\n",
       "<style scoped>\n",
       "    .dataframe tbody tr th:only-of-type {\n",
       "        vertical-align: middle;\n",
       "    }\n",
       "\n",
       "    .dataframe tbody tr th {\n",
       "        vertical-align: top;\n",
       "    }\n",
       "\n",
       "    .dataframe thead th {\n",
       "        text-align: right;\n",
       "    }\n",
       "</style>\n",
       "<table border=\"1\" class=\"dataframe\">\n",
       "  <thead>\n",
       "    <tr style=\"text-align: right;\">\n",
       "      <th></th>\n",
       "      <th>id</th>\n",
       "      <th>sentiment</th>\n",
       "      <th>review</th>\n",
       "    </tr>\n",
       "  </thead>\n",
       "  <tbody>\n",
       "    <tr>\n",
       "      <th>0</th>\n",
       "      <td>\"5814_8\"</td>\n",
       "      <td>1</td>\n",
       "      <td>\"With all this stuff going down at the moment ...</td>\n",
       "    </tr>\n",
       "    <tr>\n",
       "      <th>1</th>\n",
       "      <td>\"2381_9\"</td>\n",
       "      <td>1</td>\n",
       "      <td>\"\\\"The Classic War of the Worlds\\\" by Timothy ...</td>\n",
       "    </tr>\n",
       "    <tr>\n",
       "      <th>2</th>\n",
       "      <td>\"7759_3\"</td>\n",
       "      <td>0</td>\n",
       "      <td>\"The film starts with a manager (Nicholas Bell...</td>\n",
       "    </tr>\n",
       "    <tr>\n",
       "      <th>3</th>\n",
       "      <td>\"3630_4\"</td>\n",
       "      <td>0</td>\n",
       "      <td>\"It must be assumed that those who praised thi...</td>\n",
       "    </tr>\n",
       "    <tr>\n",
       "      <th>4</th>\n",
       "      <td>\"9495_8\"</td>\n",
       "      <td>1</td>\n",
       "      <td>\"Superbly trashy and wondrously unpretentious ...</td>\n",
       "    </tr>\n",
       "  </tbody>\n",
       "</table>\n",
       "</div>"
      ],
      "text/plain": [
       "         id  sentiment                                             review\n",
       "0  \"5814_8\"          1  \"With all this stuff going down at the moment ...\n",
       "1  \"2381_9\"          1  \"\\\"The Classic War of the Worlds\\\" by Timothy ...\n",
       "2  \"7759_3\"          0  \"The film starts with a manager (Nicholas Bell...\n",
       "3  \"3630_4\"          0  \"It must be assumed that those who praised thi...\n",
       "4  \"9495_8\"          1  \"Superbly trashy and wondrously unpretentious ..."
      ]
     },
     "execution_count": 6,
     "metadata": {},
     "output_type": "execute_result"
    }
   ],
   "source": [
    "train.head()"
   ]
  },
  {
   "cell_type": "code",
   "execution_count": 7,
   "metadata": {
    "ExecuteTime": {
     "end_time": "2018-07-16T01:11:48.019160Z",
     "start_time": "2018-07-16T01:11:47.948137Z"
    }
   },
   "outputs": [
    {
     "data": {
      "text/plain": [
       "(25000, 3)"
      ]
     },
     "execution_count": 7,
     "metadata": {},
     "output_type": "execute_result"
    }
   ],
   "source": [
    "train.shape"
   ]
  },
  {
   "cell_type": "code",
   "execution_count": 8,
   "metadata": {
    "ExecuteTime": {
     "end_time": "2018-07-16T01:11:48.089333Z",
     "start_time": "2018-07-16T01:11:48.077213Z"
    }
   },
   "outputs": [
    {
     "name": "stdout",
     "output_type": "stream",
     "text": [
      "\"With all this stuff going down at the moment with MJ i've started listening to his music, watching the odd documentary here and there, watched The Wiz and watched Moonwalker again. Maybe i just want to get a certain insight into this guy who i thought was really cool in the eighties just to maybe make up my mind whether he is guilty or innocent. Moonwalker is part biography, part feature film which i remember going to see at the cinema when it was originally released. Some of it has subtle messages about MJ's feeling towards the press and also the obvious message of drugs are bad m'kay.<br /><br />Visually impressive but of course this is all about Michael Jackson so unless you remotely like MJ in anyway then you are going to hate this and find it boring. Some may call MJ an egotist for consenting to the making of this movie BUT MJ and most of his fans would say that he made it for the fans which if true is really nice of him.<br /><br />The actual feature film bit when it finally starts is only on for 20 minutes or so excluding the Smooth Criminal sequence and Joe Pesci is convincing as a psychopathic all powerful drug lord. Why he wants MJ dead so bad is beyond me. Because MJ overheard his plans? Nah, Joe Pesci's character ranted that he wanted people to know it is he who is supplying drugs etc so i dunno, maybe he just hates MJ's music.<br /><br />Lots of cool things in this like MJ turning into a car and a robot and the whole Speed Demon sequence. Also, the director must have had the patience of a saint when it came to filming the kiddy Bad sequence as usually directors hate working with one kid let alone a whole bunch of them performing a complex dance scene.<br /><br />Bottom line, this movie is for people who like MJ on one level or another (which i think is most people). If not, then stay away. It does try and give off a wholesome message and ironically MJ's bestest buddy in this movie is a girl! Michael Jackson is truly one of the most talented people ever to grace this planet but is he guilty? Well, with all the attention i've gave this subject....hmmm well i don't know because people can be different behind closed doors, i know this for a fact. He is either an extremely nice but stupid guy or one of the most sickest liars. I hope he is not the latter.\"\n"
     ]
    }
   ],
   "source": [
    "print(train['review'][0])"
   ]
  },
  {
   "cell_type": "code",
   "execution_count": 9,
   "metadata": {
    "ExecuteTime": {
     "end_time": "2018-07-16T01:11:48.615964Z",
     "start_time": "2018-07-16T01:11:48.599590Z"
    }
   },
   "outputs": [],
   "source": [
    "from bs4 import BeautifulSoup"
   ]
  },
  {
   "cell_type": "code",
   "execution_count": 14,
   "metadata": {
    "ExecuteTime": {
     "end_time": "2018-07-16T01:13:29.988533Z",
     "start_time": "2018-07-16T01:13:29.975544Z"
    }
   },
   "outputs": [
    {
     "name": "stderr",
     "output_type": "stream",
     "text": [
      "/home/aadi/prog/MachineLearningJourneyandProjects(learning phase)/venv/lib/python3.6/site-packages/bs4/__init__.py:181: UserWarning: No parser was explicitly specified, so I'm using the best available HTML parser for this system (\"lxml\"). This usually isn't a problem, but if you run this code on another system, or in a different virtual environment, it may use a different parser and behave differently.\n",
      "\n",
      "The code that caused this warning is on line 193 of the file /usr/lib/python3.6/runpy.py. To get rid of this warning, change code that looks like this:\n",
      "\n",
      " BeautifulSoup(YOUR_MARKUP})\n",
      "\n",
      "to this:\n",
      "\n",
      " BeautifulSoup(YOUR_MARKUP, \"lxml\")\n",
      "\n",
      "  markup_type=markup_type))\n"
     ]
    }
   ],
   "source": [
    "example1 = BeautifulSoup(train[\"review\"][0])  \n"
   ]
  },
  {
   "cell_type": "code",
   "execution_count": 15,
   "metadata": {
    "ExecuteTime": {
     "end_time": "2018-07-16T01:13:31.454161Z",
     "start_time": "2018-07-16T01:13:31.448234Z"
    }
   },
   "outputs": [
    {
     "name": "stdout",
     "output_type": "stream",
     "text": [
      "\"With all this stuff going down at the moment with MJ i've started listening to his music, watching the odd documentary here and there, watched The Wiz and watched Moonwalker again. Maybe i just want to get a certain insight into this guy who i thought was really cool in the eighties just to maybe make up my mind whether he is guilty or innocent. Moonwalker is part biography, part feature film which i remember going to see at the cinema when it was originally released. Some of it has subtle messages about MJ's feeling towards the press and also the obvious message of drugs are bad m'kay.Visually impressive but of course this is all about Michael Jackson so unless you remotely like MJ in anyway then you are going to hate this and find it boring. Some may call MJ an egotist for consenting to the making of this movie BUT MJ and most of his fans would say that he made it for the fans which if true is really nice of him.The actual feature film bit when it finally starts is only on for 20 minutes or so excluding the Smooth Criminal sequence and Joe Pesci is convincing as a psychopathic all powerful drug lord. Why he wants MJ dead so bad is beyond me. Because MJ overheard his plans? Nah, Joe Pesci's character ranted that he wanted people to know it is he who is supplying drugs etc so i dunno, maybe he just hates MJ's music.Lots of cool things in this like MJ turning into a car and a robot and the whole Speed Demon sequence. Also, the director must have had the patience of a saint when it came to filming the kiddy Bad sequence as usually directors hate working with one kid let alone a whole bunch of them performing a complex dance scene.Bottom line, this movie is for people who like MJ on one level or another (which i think is most people). If not, then stay away. It does try and give off a wholesome message and ironically MJ's bestest buddy in this movie is a girl! Michael Jackson is truly one of the most talented people ever to grace this planet but is he guilty? Well, with all the attention i've gave this subject....hmmm well i don't know because people can be different behind closed doors, i know this for a fact. He is either an extremely nice but stupid guy or one of the most sickest liars. I hope he is not the latter.\"\n"
     ]
    }
   ],
   "source": [
    "print(ex1.get_text())"
   ]
  },
  {
   "cell_type": "code",
   "execution_count": 16,
   "metadata": {
    "ExecuteTime": {
     "end_time": "2018-07-16T07:51:51.927027Z",
     "start_time": "2018-07-16T07:51:51.913803Z"
    }
   },
   "outputs": [],
   "source": [
    "import re"
   ]
  },
  {
   "cell_type": "code",
   "execution_count": 18,
   "metadata": {
    "ExecuteTime": {
     "end_time": "2018-07-16T07:53:17.134820Z",
     "start_time": "2018-07-16T07:53:17.125889Z"
    }
   },
   "outputs": [],
   "source": [
    "lettersOnly = re.sub(\"[^a-zA-z]\", \" \", ex1.get_text())"
   ]
  },
  {
   "cell_type": "code",
   "execution_count": 19,
   "metadata": {
    "ExecuteTime": {
     "end_time": "2018-07-16T07:53:22.215608Z",
     "start_time": "2018-07-16T07:53:22.206666Z"
    }
   },
   "outputs": [
    {
     "name": "stdout",
     "output_type": "stream",
     "text": [
      " With all this stuff going down at the moment with MJ i ve started listening to his music  watching the odd documentary here and there  watched The Wiz and watched Moonwalker again  Maybe i just want to get a certain insight into this guy who i thought was really cool in the eighties just to maybe make up my mind whether he is guilty or innocent  Moonwalker is part biography  part feature film which i remember going to see at the cinema when it was originally released  Some of it has subtle messages about MJ s feeling towards the press and also the obvious message of drugs are bad m kay Visually impressive but of course this is all about Michael Jackson so unless you remotely like MJ in anyway then you are going to hate this and find it boring  Some may call MJ an egotist for consenting to the making of this movie BUT MJ and most of his fans would say that he made it for the fans which if true is really nice of him The actual feature film bit when it finally starts is only on for    minutes or so excluding the Smooth Criminal sequence and Joe Pesci is convincing as a psychopathic all powerful drug lord  Why he wants MJ dead so bad is beyond me  Because MJ overheard his plans  Nah  Joe Pesci s character ranted that he wanted people to know it is he who is supplying drugs etc so i dunno  maybe he just hates MJ s music Lots of cool things in this like MJ turning into a car and a robot and the whole Speed Demon sequence  Also  the director must have had the patience of a saint when it came to filming the kiddy Bad sequence as usually directors hate working with one kid let alone a whole bunch of them performing a complex dance scene Bottom line  this movie is for people who like MJ on one level or another  which i think is most people   If not  then stay away  It does try and give off a wholesome message and ironically MJ s bestest buddy in this movie is a girl  Michael Jackson is truly one of the most talented people ever to grace this planet but is he guilty  Well  with all the attention i ve gave this subject    hmmm well i don t know because people can be different behind closed doors  i know this for a fact  He is either an extremely nice but stupid guy or one of the most sickest liars  I hope he is not the latter  \n"
     ]
    }
   ],
   "source": [
    "print(lettersOnly)"
   ]
  },
  {
   "cell_type": "code",
   "execution_count": 20,
   "metadata": {
    "ExecuteTime": {
     "end_time": "2018-07-16T07:53:48.530351Z",
     "start_time": "2018-07-16T07:53:48.521497Z"
    }
   },
   "outputs": [],
   "source": [
    "words = lettersOnly.lower().split()"
   ]
  },
  {
   "cell_type": "code",
   "execution_count": 21,
   "metadata": {
    "ExecuteTime": {
     "end_time": "2018-07-16T07:53:50.206816Z",
     "start_time": "2018-07-16T07:53:50.170663Z"
    }
   },
   "outputs": [
    {
     "data": {
      "text/plain": [
       "['with',\n",
       " 'all',\n",
       " 'this',\n",
       " 'stuff',\n",
       " 'going',\n",
       " 'down',\n",
       " 'at',\n",
       " 'the',\n",
       " 'moment',\n",
       " 'with',\n",
       " 'mj',\n",
       " 'i',\n",
       " 've',\n",
       " 'started',\n",
       " 'listening',\n",
       " 'to',\n",
       " 'his',\n",
       " 'music',\n",
       " 'watching',\n",
       " 'the',\n",
       " 'odd',\n",
       " 'documentary',\n",
       " 'here',\n",
       " 'and',\n",
       " 'there',\n",
       " 'watched',\n",
       " 'the',\n",
       " 'wiz',\n",
       " 'and',\n",
       " 'watched',\n",
       " 'moonwalker',\n",
       " 'again',\n",
       " 'maybe',\n",
       " 'i',\n",
       " 'just',\n",
       " 'want',\n",
       " 'to',\n",
       " 'get',\n",
       " 'a',\n",
       " 'certain',\n",
       " 'insight',\n",
       " 'into',\n",
       " 'this',\n",
       " 'guy',\n",
       " 'who',\n",
       " 'i',\n",
       " 'thought',\n",
       " 'was',\n",
       " 'really',\n",
       " 'cool',\n",
       " 'in',\n",
       " 'the',\n",
       " 'eighties',\n",
       " 'just',\n",
       " 'to',\n",
       " 'maybe',\n",
       " 'make',\n",
       " 'up',\n",
       " 'my',\n",
       " 'mind',\n",
       " 'whether',\n",
       " 'he',\n",
       " 'is',\n",
       " 'guilty',\n",
       " 'or',\n",
       " 'innocent',\n",
       " 'moonwalker',\n",
       " 'is',\n",
       " 'part',\n",
       " 'biography',\n",
       " 'part',\n",
       " 'feature',\n",
       " 'film',\n",
       " 'which',\n",
       " 'i',\n",
       " 'remember',\n",
       " 'going',\n",
       " 'to',\n",
       " 'see',\n",
       " 'at',\n",
       " 'the',\n",
       " 'cinema',\n",
       " 'when',\n",
       " 'it',\n",
       " 'was',\n",
       " 'originally',\n",
       " 'released',\n",
       " 'some',\n",
       " 'of',\n",
       " 'it',\n",
       " 'has',\n",
       " 'subtle',\n",
       " 'messages',\n",
       " 'about',\n",
       " 'mj',\n",
       " 's',\n",
       " 'feeling',\n",
       " 'towards',\n",
       " 'the',\n",
       " 'press',\n",
       " 'and',\n",
       " 'also',\n",
       " 'the',\n",
       " 'obvious',\n",
       " 'message',\n",
       " 'of',\n",
       " 'drugs',\n",
       " 'are',\n",
       " 'bad',\n",
       " 'm',\n",
       " 'kay',\n",
       " 'visually',\n",
       " 'impressive',\n",
       " 'but',\n",
       " 'of',\n",
       " 'course',\n",
       " 'this',\n",
       " 'is',\n",
       " 'all',\n",
       " 'about',\n",
       " 'michael',\n",
       " 'jackson',\n",
       " 'so',\n",
       " 'unless',\n",
       " 'you',\n",
       " 'remotely',\n",
       " 'like',\n",
       " 'mj',\n",
       " 'in',\n",
       " 'anyway',\n",
       " 'then',\n",
       " 'you',\n",
       " 'are',\n",
       " 'going',\n",
       " 'to',\n",
       " 'hate',\n",
       " 'this',\n",
       " 'and',\n",
       " 'find',\n",
       " 'it',\n",
       " 'boring',\n",
       " 'some',\n",
       " 'may',\n",
       " 'call',\n",
       " 'mj',\n",
       " 'an',\n",
       " 'egotist',\n",
       " 'for',\n",
       " 'consenting',\n",
       " 'to',\n",
       " 'the',\n",
       " 'making',\n",
       " 'of',\n",
       " 'this',\n",
       " 'movie',\n",
       " 'but',\n",
       " 'mj',\n",
       " 'and',\n",
       " 'most',\n",
       " 'of',\n",
       " 'his',\n",
       " 'fans',\n",
       " 'would',\n",
       " 'say',\n",
       " 'that',\n",
       " 'he',\n",
       " 'made',\n",
       " 'it',\n",
       " 'for',\n",
       " 'the',\n",
       " 'fans',\n",
       " 'which',\n",
       " 'if',\n",
       " 'true',\n",
       " 'is',\n",
       " 'really',\n",
       " 'nice',\n",
       " 'of',\n",
       " 'him',\n",
       " 'the',\n",
       " 'actual',\n",
       " 'feature',\n",
       " 'film',\n",
       " 'bit',\n",
       " 'when',\n",
       " 'it',\n",
       " 'finally',\n",
       " 'starts',\n",
       " 'is',\n",
       " 'only',\n",
       " 'on',\n",
       " 'for',\n",
       " 'minutes',\n",
       " 'or',\n",
       " 'so',\n",
       " 'excluding',\n",
       " 'the',\n",
       " 'smooth',\n",
       " 'criminal',\n",
       " 'sequence',\n",
       " 'and',\n",
       " 'joe',\n",
       " 'pesci',\n",
       " 'is',\n",
       " 'convincing',\n",
       " 'as',\n",
       " 'a',\n",
       " 'psychopathic',\n",
       " 'all',\n",
       " 'powerful',\n",
       " 'drug',\n",
       " 'lord',\n",
       " 'why',\n",
       " 'he',\n",
       " 'wants',\n",
       " 'mj',\n",
       " 'dead',\n",
       " 'so',\n",
       " 'bad',\n",
       " 'is',\n",
       " 'beyond',\n",
       " 'me',\n",
       " 'because',\n",
       " 'mj',\n",
       " 'overheard',\n",
       " 'his',\n",
       " 'plans',\n",
       " 'nah',\n",
       " 'joe',\n",
       " 'pesci',\n",
       " 's',\n",
       " 'character',\n",
       " 'ranted',\n",
       " 'that',\n",
       " 'he',\n",
       " 'wanted',\n",
       " 'people',\n",
       " 'to',\n",
       " 'know',\n",
       " 'it',\n",
       " 'is',\n",
       " 'he',\n",
       " 'who',\n",
       " 'is',\n",
       " 'supplying',\n",
       " 'drugs',\n",
       " 'etc',\n",
       " 'so',\n",
       " 'i',\n",
       " 'dunno',\n",
       " 'maybe',\n",
       " 'he',\n",
       " 'just',\n",
       " 'hates',\n",
       " 'mj',\n",
       " 's',\n",
       " 'music',\n",
       " 'lots',\n",
       " 'of',\n",
       " 'cool',\n",
       " 'things',\n",
       " 'in',\n",
       " 'this',\n",
       " 'like',\n",
       " 'mj',\n",
       " 'turning',\n",
       " 'into',\n",
       " 'a',\n",
       " 'car',\n",
       " 'and',\n",
       " 'a',\n",
       " 'robot',\n",
       " 'and',\n",
       " 'the',\n",
       " 'whole',\n",
       " 'speed',\n",
       " 'demon',\n",
       " 'sequence',\n",
       " 'also',\n",
       " 'the',\n",
       " 'director',\n",
       " 'must',\n",
       " 'have',\n",
       " 'had',\n",
       " 'the',\n",
       " 'patience',\n",
       " 'of',\n",
       " 'a',\n",
       " 'saint',\n",
       " 'when',\n",
       " 'it',\n",
       " 'came',\n",
       " 'to',\n",
       " 'filming',\n",
       " 'the',\n",
       " 'kiddy',\n",
       " 'bad',\n",
       " 'sequence',\n",
       " 'as',\n",
       " 'usually',\n",
       " 'directors',\n",
       " 'hate',\n",
       " 'working',\n",
       " 'with',\n",
       " 'one',\n",
       " 'kid',\n",
       " 'let',\n",
       " 'alone',\n",
       " 'a',\n",
       " 'whole',\n",
       " 'bunch',\n",
       " 'of',\n",
       " 'them',\n",
       " 'performing',\n",
       " 'a',\n",
       " 'complex',\n",
       " 'dance',\n",
       " 'scene',\n",
       " 'bottom',\n",
       " 'line',\n",
       " 'this',\n",
       " 'movie',\n",
       " 'is',\n",
       " 'for',\n",
       " 'people',\n",
       " 'who',\n",
       " 'like',\n",
       " 'mj',\n",
       " 'on',\n",
       " 'one',\n",
       " 'level',\n",
       " 'or',\n",
       " 'another',\n",
       " 'which',\n",
       " 'i',\n",
       " 'think',\n",
       " 'is',\n",
       " 'most',\n",
       " 'people',\n",
       " 'if',\n",
       " 'not',\n",
       " 'then',\n",
       " 'stay',\n",
       " 'away',\n",
       " 'it',\n",
       " 'does',\n",
       " 'try',\n",
       " 'and',\n",
       " 'give',\n",
       " 'off',\n",
       " 'a',\n",
       " 'wholesome',\n",
       " 'message',\n",
       " 'and',\n",
       " 'ironically',\n",
       " 'mj',\n",
       " 's',\n",
       " 'bestest',\n",
       " 'buddy',\n",
       " 'in',\n",
       " 'this',\n",
       " 'movie',\n",
       " 'is',\n",
       " 'a',\n",
       " 'girl',\n",
       " 'michael',\n",
       " 'jackson',\n",
       " 'is',\n",
       " 'truly',\n",
       " 'one',\n",
       " 'of',\n",
       " 'the',\n",
       " 'most',\n",
       " 'talented',\n",
       " 'people',\n",
       " 'ever',\n",
       " 'to',\n",
       " 'grace',\n",
       " 'this',\n",
       " 'planet',\n",
       " 'but',\n",
       " 'is',\n",
       " 'he',\n",
       " 'guilty',\n",
       " 'well',\n",
       " 'with',\n",
       " 'all',\n",
       " 'the',\n",
       " 'attention',\n",
       " 'i',\n",
       " 've',\n",
       " 'gave',\n",
       " 'this',\n",
       " 'subject',\n",
       " 'hmmm',\n",
       " 'well',\n",
       " 'i',\n",
       " 'don',\n",
       " 't',\n",
       " 'know',\n",
       " 'because',\n",
       " 'people',\n",
       " 'can',\n",
       " 'be',\n",
       " 'different',\n",
       " 'behind',\n",
       " 'closed',\n",
       " 'doors',\n",
       " 'i',\n",
       " 'know',\n",
       " 'this',\n",
       " 'for',\n",
       " 'a',\n",
       " 'fact',\n",
       " 'he',\n",
       " 'is',\n",
       " 'either',\n",
       " 'an',\n",
       " 'extremely',\n",
       " 'nice',\n",
       " 'but',\n",
       " 'stupid',\n",
       " 'guy',\n",
       " 'or',\n",
       " 'one',\n",
       " 'of',\n",
       " 'the',\n",
       " 'most',\n",
       " 'sickest',\n",
       " 'liars',\n",
       " 'i',\n",
       " 'hope',\n",
       " 'he',\n",
       " 'is',\n",
       " 'not',\n",
       " 'the',\n",
       " 'latter']"
      ]
     },
     "execution_count": 21,
     "metadata": {},
     "output_type": "execute_result"
    }
   ],
   "source": [
    "words"
   ]
  },
  {
   "cell_type": "code",
   "execution_count": 22,
   "metadata": {
    "ExecuteTime": {
     "end_time": "2018-07-16T07:54:13.847307Z",
     "start_time": "2018-07-16T07:54:13.405263Z"
    }
   },
   "outputs": [],
   "source": [
    "import nltk"
   ]
  },
  {
   "cell_type": "code",
   "execution_count": 23,
   "metadata": {
    "ExecuteTime": {
     "end_time": "2018-07-16T07:54:36.384839Z",
     "start_time": "2018-07-16T07:54:17.378010Z"
    }
   },
   "outputs": [
    {
     "name": "stdout",
     "output_type": "stream",
     "text": [
      "NLTK Downloader\n",
      "---------------------------------------------------------------------------\n",
      "    d) Download   l) List    u) Update   c) Config   h) Help   q) Quit\n",
      "---------------------------------------------------------------------------\n",
      "Downloader> d\n",
      "\n",
      "Download which package (l=list; x=cancel)?\n",
      "  Identifier> stopwords\n",
      "    Downloading package stopwords to /home/aadi/nltk_data...\n",
      "      Package stopwords is already up-to-date!\n",
      "\n",
      "---------------------------------------------------------------------------\n",
      "    d) Download   l) List    u) Update   c) Config   h) Help   q) Quit\n",
      "---------------------------------------------------------------------------\n",
      "Downloader> q\n"
     ]
    },
    {
     "data": {
      "text/plain": [
       "True"
      ]
     },
     "execution_count": 23,
     "metadata": {},
     "output_type": "execute_result"
    }
   ],
   "source": [
    "nltk.download()"
   ]
  },
  {
   "cell_type": "code",
   "execution_count": 27,
   "metadata": {
    "ExecuteTime": {
     "end_time": "2018-07-16T07:55:27.153999Z",
     "start_time": "2018-07-16T07:55:27.144318Z"
    }
   },
   "outputs": [],
   "source": [
    "from nltk.corpus import stopwords\n",
    "#print(stopwords.words('english'))"
   ]
  },
  {
   "cell_type": "code",
   "execution_count": 28,
   "metadata": {
    "ExecuteTime": {
     "end_time": "2018-07-16T07:56:08.870381Z",
     "start_time": "2018-07-16T07:56:08.794921Z"
    }
   },
   "outputs": [],
   "source": [
    "clean_words = [word for word in words if word not in stopwords.words('english')]"
   ]
  },
  {
   "cell_type": "code",
   "execution_count": 37,
   "metadata": {
    "ExecuteTime": {
     "end_time": "2018-07-16T08:04:12.935600Z",
     "start_time": "2018-07-16T08:04:12.922752Z"
    }
   },
   "outputs": [
    {
     "name": "stdout",
     "output_type": "stream",
     "text": [
      "['stuff', 'going', 'moment', 'mj', 'started', 'listening', 'music', 'watching', 'odd', 'documentary', 'watched', 'wiz', 'watched', 'moonwalker', 'maybe', 'want', 'get', 'certain', 'insight', 'guy', 'thought', 'really', 'cool', 'eighties', 'maybe', 'make', 'mind', 'whether', 'guilty', 'innocent', 'moonwalker', 'part', 'biography', 'part', 'feature', 'film', 'remember', 'going', 'see', 'cinema', 'originally', 'released', 'subtle', 'messages', 'mj', 'feeling', 'towards', 'press', 'also', 'obvious', 'message', 'drugs', 'bad', 'kay', 'visually', 'impressive', 'course', 'michael', 'jackson', 'unless', 'remotely', 'like', 'mj', 'anyway', 'going', 'hate', 'find', 'boring', 'may', 'call', 'mj', 'egotist', 'consenting', 'making', 'movie', 'mj', 'fans', 'would', 'say', 'made', 'fans', 'true', 'really', 'nice', 'actual', 'feature', 'film', 'bit', 'finally', 'starts', 'minutes', 'excluding', 'smooth', 'criminal', 'sequence', 'joe', 'pesci', 'convincing', 'psychopathic', 'powerful', 'drug', 'lord', 'wants', 'mj', 'dead', 'bad', 'beyond', 'mj', 'overheard', 'plans', 'nah', 'joe', 'pesci', 'character', 'ranted', 'wanted', 'people', 'know', 'supplying', 'drugs', 'etc', 'dunno', 'maybe', 'hates', 'mj', 'music', 'lots', 'cool', 'things', 'like', 'mj', 'turning', 'car', 'robot', 'whole', 'speed', 'demon', 'sequence', 'also', 'director', 'must', 'patience', 'saint', 'came', 'filming', 'kiddy', 'bad', 'sequence', 'usually', 'directors', 'hate', 'working', 'one', 'kid', 'let', 'alone', 'whole', 'bunch', 'performing', 'complex', 'dance', 'scene', 'bottom', 'line', 'movie', 'people', 'like', 'mj', 'one', 'level', 'another', 'think', 'people', 'stay', 'away', 'try', 'give', 'wholesome', 'message', 'ironically', 'mj', 'bestest', 'buddy', 'movie', 'girl', 'michael', 'jackson', 'truly', 'one', 'talented', 'people', 'ever', 'grace', 'planet', 'guilty', 'well', 'attention', 'gave', 'subject', 'hmmm', 'well', 'know', 'people', 'different', 'behind', 'closed', 'doors', 'know', 'fact', 'either', 'extremely', 'nice', 'stupid', 'guy', 'one', 'sickest', 'liars', 'hope', 'latter']\n"
     ]
    }
   ],
   "source": [
    "print(clean_words)"
   ]
  },
  {
   "cell_type": "code",
   "execution_count": 42,
   "metadata": {
    "ExecuteTime": {
     "end_time": "2018-07-16T08:21:45.015852Z",
     "start_time": "2018-07-16T08:21:45.002437Z"
    }
   },
   "outputs": [],
   "source": [
    "def text_process(raw_data):\n",
    "    # 1 - remove html\n",
    "    data = BeautifulSoup(raw_data).get_text()\n",
    "    \n",
    "    #2 letters only\n",
    "    letters_only = re.sub(\"[^a-zA-Z]\", \" \", data)\n",
    "    \n",
    "    #3 removing stop words\n",
    "    stops = set(stopwords.words('english'))\n",
    "    meaningful_words = [word for word in letters_only.lower().split() if word not in stops]\n",
    "    return ' '.join(meaningful_words)"
   ]
  },
  {
   "cell_type": "code",
   "execution_count": 43,
   "metadata": {
    "ExecuteTime": {
     "end_time": "2018-07-16T08:21:45.463017Z",
     "start_time": "2018-07-16T08:21:45.423298Z"
    }
   },
   "outputs": [
    {
     "name": "stdout",
     "output_type": "stream",
     "text": [
      "stuff going moment mj started listening music watching odd documentary watched wiz watched moonwalker maybe want get certain insight guy thought really cool eighties maybe make mind whether guilty innocent moonwalker part biography part feature film remember going see cinema originally released subtle messages mj feeling towards press also obvious message drugs bad kay visually impressive course michael jackson unless remotely like mj anyway going hate find boring may call mj egotist consenting making movie mj fans would say made fans true really nice actual feature film bit finally starts minutes excluding smooth criminal sequence joe pesci convincing psychopathic powerful drug lord wants mj dead bad beyond mj overheard plans nah joe pesci character ranted wanted people know supplying drugs etc dunno maybe hates mj music lots cool things like mj turning car robot whole speed demon sequence also director must patience saint came filming kiddy bad sequence usually directors hate working one kid let alone whole bunch performing complex dance scene bottom line movie people like mj one level another think people stay away try give wholesome message ironically mj bestest buddy movie girl michael jackson truly one talented people ever grace planet guilty well attention gave subject hmmm well know people different behind closed doors know fact either extremely nice stupid guy one sickest liars hope latter\n"
     ]
    },
    {
     "name": "stderr",
     "output_type": "stream",
     "text": [
      "/home/aadi/prog/MachineLearningJourneyandProjects(learning phase)/venv/lib/python3.6/site-packages/bs4/__init__.py:181: UserWarning: No parser was explicitly specified, so I'm using the best available HTML parser for this system (\"lxml\"). This usually isn't a problem, but if you run this code on another system, or in a different virtual environment, it may use a different parser and behave differently.\n",
      "\n",
      "The code that caused this warning is on line 193 of the file /usr/lib/python3.6/runpy.py. To get rid of this warning, change code that looks like this:\n",
      "\n",
      " BeautifulSoup(YOUR_MARKUP})\n",
      "\n",
      "to this:\n",
      "\n",
      " BeautifulSoup(YOUR_MARKUP, \"lxml\")\n",
      "\n",
      "  markup_type=markup_type))\n"
     ]
    }
   ],
   "source": [
    "clean_review = text_process(train['review'][0])\n",
    "print(clean_review)"
   ]
  },
  {
   "cell_type": "code",
   "execution_count": 52,
   "metadata": {
    "ExecuteTime": {
     "end_time": "2018-07-16T08:32:55.423538Z",
     "start_time": "2018-07-16T08:32:31.753017Z"
    }
   },
   "outputs": [
    {
     "name": "stderr",
     "output_type": "stream",
     "text": [
      "/home/aadi/prog/MachineLearningJourneyandProjects(learning phase)/venv/lib/python3.6/site-packages/bs4/__init__.py:181: UserWarning: No parser was explicitly specified, so I'm using the best available HTML parser for this system (\"lxml\"). This usually isn't a problem, but if you run this code on another system, or in a different virtual environment, it may use a different parser and behave differently.\n",
      "\n",
      "The code that caused this warning is on line 193 of the file /usr/lib/python3.6/runpy.py. To get rid of this warning, change code that looks like this:\n",
      "\n",
      " BeautifulSoup(YOUR_MARKUP})\n",
      "\n",
      "to this:\n",
      "\n",
      " BeautifulSoup(YOUR_MARKUP, \"lxml\")\n",
      "\n",
      "  markup_type=markup_type))\n"
     ]
    },
    {
     "name": "stdout",
     "output_type": "stream",
     "text": [
      "Review 1000 of 25000\n",
      "\n",
      "Review 2000 of 25000\n",
      "\n",
      "Review 3000 of 25000\n",
      "\n",
      "Review 4000 of 25000\n",
      "\n",
      "Review 5000 of 25000\n",
      "\n",
      "Review 6000 of 25000\n",
      "\n",
      "Review 7000 of 25000\n",
      "\n",
      "Review 8000 of 25000\n",
      "\n",
      "Review 9000 of 25000\n",
      "\n",
      "Review 10000 of 25000\n",
      "\n",
      "Review 11000 of 25000\n",
      "\n",
      "Review 12000 of 25000\n",
      "\n",
      "Review 13000 of 25000\n",
      "\n",
      "Review 14000 of 25000\n",
      "\n",
      "Review 15000 of 25000\n",
      "\n",
      "Review 16000 of 25000\n",
      "\n",
      "Review 17000 of 25000\n",
      "\n",
      "Review 18000 of 25000\n",
      "\n",
      "Review 19000 of 25000\n",
      "\n",
      "Review 20000 of 25000\n",
      "\n",
      "Review 21000 of 25000\n",
      "\n",
      "Review 22000 of 25000\n",
      "\n",
      "Review 23000 of 25000\n",
      "\n",
      "Review 24000 of 25000\n",
      "\n",
      "Review 25000 of 25000\n",
      "\n"
     ]
    }
   ],
   "source": [
    "num_reviews = train['review'].shape[0]\n",
    "clean_train_reviews = []\n",
    "for i in range(num_reviews):\n",
    "    # If the index is evenly divisible by 1000, print a message\n",
    "    if( (i+1)%1000 == 0 ):\n",
    "        print (\"Review %d of %d\\n\" % ( i+1, num_reviews ))\n",
    "    clean_train_reviews.append(text_process(train['review'][i]))"
   ]
  },
  {
   "cell_type": "code",
   "execution_count": 54,
   "metadata": {
    "ExecuteTime": {
     "end_time": "2018-07-16T08:54:46.236028Z",
     "start_time": "2018-07-16T08:54:43.012901Z"
    }
   },
   "outputs": [
    {
     "name": "stdout",
     "output_type": "stream",
     "text": [
      "\n",
      " Creating bag of words model!\n"
     ]
    }
   ],
   "source": [
    "print('\\n Creating bag of words model!')\n",
    "from sklearn.feature_extraction.text import CountVectorizer\n",
    "\n",
    "vectorizer = CountVectorizer(analyzer='word', tokenizer=None, max_features=7000)\n",
    "train_data_features = vectorizer.fit_transform(clean_train_reviews)\n",
    "train_data_features = train_data_features.toarray()"
   ]
  },
  {
   "cell_type": "code",
   "execution_count": 59,
   "metadata": {
    "ExecuteTime": {
     "end_time": "2018-07-16T08:59:00.935076Z",
     "start_time": "2018-07-16T08:59:00.917761Z"
    }
   },
   "outputs": [
    {
     "data": {
      "text/plain": [
       "array([[0, 0, 0, ..., 0, 0, 0],\n",
       "       [0, 0, 0, ..., 0, 0, 0],\n",
       "       [0, 0, 0, ..., 0, 0, 0],\n",
       "       ...,\n",
       "       [0, 0, 0, ..., 0, 0, 0],\n",
       "       [0, 0, 0, ..., 0, 0, 0],\n",
       "       [0, 0, 0, ..., 0, 0, 0]], dtype=int64)"
      ]
     },
     "execution_count": 59,
     "metadata": {},
     "output_type": "execute_result"
    }
   ],
   "source": [
    "train_data_features"
   ]
  },
  {
   "cell_type": "code",
   "execution_count": 60,
   "metadata": {
    "ExecuteTime": {
     "end_time": "2018-07-16T09:00:39.786817Z",
     "start_time": "2018-07-16T09:00:39.767869Z"
    }
   },
   "outputs": [
    {
     "name": "stdout",
     "output_type": "stream",
     "text": [
      "['abandon', 'abandoned', 'abc', 'abilities', 'ability', 'able', 'abortion', 'abound', 'abraham', 'abrupt', 'abruptly', 'absence', 'absent', 'absolute', 'absolutely', 'absorbed', 'absorbing', 'absurd', 'absurdity', 'abuse', 'abused', 'abusive', 'abysmal', 'academy', 'accent', 'accents', 'accept', 'acceptable', 'acceptance', 'accepted', 'accepting', 'accepts', 'access', 'accessible', 'accident', 'accidentally', 'acclaimed', 'accompanied', 'accomplish', 'accomplished', 'according', 'account', 'accounts', 'accuracy', 'accurate', 'accurately', 'accused', 'ace', 'achieve', 'achieved', 'achievement', 'achieves', 'acid', 'acquired', 'across', 'act', 'acted', 'acting', 'action', 'actions', 'active', 'activities', 'activity', 'actor', 'actors', 'actress', 'actresses', 'acts', 'actual', 'actually', 'ad', 'adam', 'adams', 'adaptation', 'adaptations', 'adapted', 'adaption', 'add', 'added', 'addict', 'addicted', 'addiction', 'adding', 'addition', 'additional', 'additionally', 'address', 'adds', 'adequate', 'admirable', 'admire', 'admired', 'admit', 'admitted', 'admittedly', 'adolescent', 'adopted', 'adorable', 'adore', 'adrian', 'adult', 'adults', 'advance', 'advanced', 'advantage', 'adventure', 'adventures', 'advertised', 'advertising', 'advice', 'advise', 'advised', 'affair', 'affairs', 'affect', 'affected', 'affection', 'affects', 'affleck', 'afford', 'aforementioned', 'afraid', 'africa', 'african', 'aftermath', 'afternoon', 'afterward', 'afterwards', 'age', 'aged', 'agency', 'agenda', 'agent', 'agents', 'ages', 'aggressive', 'aging', 'ago', 'agony', 'agree', 'agreed', 'agrees', 'ah', 'ahead', 'aid', 'aided', 'aids', 'aim', 'aimed', 'aiming', 'air', 'aired', 'airplane', 'airport', 'aka', 'akin', 'akshay', 'al', 'alan', 'alas', 'albeit', 'albert', 'album', 'alcohol', 'alcoholic', 'alec', 'alert', 'alex', 'alexander', 'alexandre', 'alfred', 'alice', 'alicia', 'alien', 'aliens', 'alike', 'alison', 'alive', 'alleged', 'allen', 'alley', 'alliance', 'allow', 'allowed', 'allowing', 'allows', 'ally', 'almost', 'alone', 'along', 'alongside', 'alot', 'already', 'alright', 'also', 'alter', 'altered', 'alternate', 'alternative', 'although', 'altman', 'altogether', 'alvin', 'always', 'amanda', 'amateur', 'amateurish', 'amazed', 'amazing', 'amazingly', 'amazon', 'ambiguity', 'ambiguous', 'ambition', 'ambitions', 'ambitious', 'america', 'american', 'americans', 'amidst', 'amitabh', 'among', 'amongst', 'amount', 'amounts', 'amrita', 'amused', 'amusement', 'amusing', 'amy', 'analysis', 'ancient', 'anderson', 'andre', 'andrew', 'andrews', 'andy', 'angel', 'angela', 'angeles', 'angels', 'anger', 'angie', 'angle', 'angles', 'angry', 'angst', 'anil', 'animal', 'animals', 'animated', 'animation', 'anime', 'ann', 'anna', 'anne', 'annie', 'annoyed', 'annoying', 'another', 'answer', 'answered', 'answers', 'antagonist', 'anthology', 'anthony', 'anti', 'anticipated', 'anticipation', 'antics', 'anton', 'antonio', 'antonioni', 'ants', 'antwone', 'anxious', 'anybody', 'anyhow', 'anymore', 'anyone', 'anything', 'anytime', 'anyway', 'anyways', 'anywhere', 'apart', 'apartment', 'ape', 'apes', 'appalling', 'apparent', 'apparently', 'appeal', 'appealing', 'appeals', 'appear', 'appearance', 'appearances', 'appeared', 'appearing', 'appears', 'applaud', 'apple', 'apply', 'appreciate', 'appreciated', 'appreciation', 'approach', 'approached', 'approaches', 'approaching', 'appropriate', 'appropriately', 'april', 'apt', 'arab', 'arc', 'area', 'areas', 'arguably', 'argue', 'arguing', 'argument', 'arguments', 'ariel', 'arkin', 'arm', 'armed', 'arms', 'armstrong', 'army', 'arnold', 'around', 'arquette', 'arranged', 'arrest', 'arrested', 'arrival', 'arrive', 'arrived', 'arrives', 'arriving', 'arrogant', 'arrow', 'art', 'arthur', 'artificial', 'artist', 'artistic', 'artistry', 'artists', 'arts', 'artsy', 'artwork', 'arty', 'ashamed', 'ashley', 'asia', 'asian', 'aside', 'ask', 'asked', 'asking', 'asks', 'asleep', 'aspect', 'aspects', 'aspiring', 'ass', 'assassin', 'assassination', 'assault', 'assembled', 'assigned', 'assignment', 'assistant', 'associated', 'assume', 'assumed', 'assuming', 'assured', 'astaire', 'astonishing', 'astounding', 'asylum', 'atlantis', 'atmosphere', 'atmospheric', 'atrocious', 'attached', 'attack', 'attacked', 'attacking', 'attacks', 'attempt', 'attempted', 'attempting', 'attempts', 'attenborough', 'attend', 'attended', 'attending', 'attention', 'attitude', 'attitudes', 'attorney', 'attract', 'attracted', 'attraction', 'attractive', 'audience', 'audiences', 'audio', 'audition', 'audrey', 'august', 'aunt', 'aussie', 'austen', 'austin', 'australia', 'australian', 'authentic', 'authenticity', 'author', 'authorities', 'authority', 'auto', 'automatically', 'available', 'average', 'avoid', 'avoided', 'avoiding', 'awake', 'awakening', 'award', 'awards', 'aware', 'away', 'awe', 'awesome', 'awful', 'awfully', 'awhile', 'awkward', 'axe', 'babe', 'babies', 'baby', 'bacall', 'bach', 'bachchan', 'bachelor', 'back', 'backdrop', 'backed', 'background', 'backgrounds', 'backs', 'backwards', 'bacon', 'bad', 'badly', 'bag', 'bait', 'baker', 'bakshi', 'balance', 'balanced', 'baldwin', 'ball', 'ballet', 'balls', 'banal', 'band', 'bands', 'bang', 'bank', 'banned', 'banter', 'bar', 'barbara', 'barbra', 'bare', 'barely', 'bargain', 'barrel', 'barry', 'barrymore', 'bars', 'base', 'baseball', 'based', 'basement', 'bashing', 'basic', 'basically', 'basinger', 'basis', 'basket', 'basketball', 'bat', 'bates', 'bath', 'bathroom', 'batman', 'battle', 'battles', 'bay', 'bbc', 'beach', 'bear', 'bears', 'beast', 'beat', 'beaten', 'beating', 'beatles', 'beats', 'beatty', 'beautiful', 'beautifully', 'beauty', 'became', 'beckham', 'beckinsale', 'become', 'becomes', 'becoming', 'bed', 'bedroom', 'beer', 'befriends', 'beg', 'began', 'begging', 'begin', 'beginning', 'begins', 'begs', 'begun', 'behave', 'behavior', 'behaviour', 'behind', 'behold', 'beings', 'bela', 'belief', 'beliefs', 'believable', 'believe', 'believed', 'believes', 'believing', 'bell', 'belly', 'belong', 'belongs', 'beloved', 'belt', 'belushi', 'ben', 'bend', 'beneath', 'benefit', 'bent', 'beowulf', 'bergman', 'berkeley', 'berlin', 'bernard', 'beside', 'besides', 'best', 'bet', 'betrayal', 'bette', 'better', 'bettie', 'betty', 'beverly', 'beware', 'beyond', 'biased', 'bible', 'biblical', 'big', 'bigger', 'biggest', 'bike', 'biker', 'bikini', 'biko', 'bill', 'billed', 'billy', 'bin', 'biography', 'bird', 'birds', 'birth', 'birthday', 'bit', 'bitch', 'bite', 'biting', 'bits', 'bitten', 'bitter', 'bizarre', 'black', 'blacks', 'blade', 'blah', 'blair', 'blake', 'blame', 'blamed', 'bland', 'blank', 'blast', 'blatant', 'blatantly', 'bleak', 'blend', 'blew', 'blind', 'blob', 'block', 'blockbuster', 'blond', 'blonde', 'blood', 'blooded', 'bloody', 'bloom', 'blow', 'blowing', 'blown', 'blows', 'blue', 'blues', 'blunt', 'bo', 'board', 'boasts', 'boat', 'bob', 'bobby', 'bodies', 'body', 'bogart', 'bogus', 'boiled', 'bold', 'boll', 'bollywood', 'bomb', 'bombs', 'bond', 'bondage', 'bone', 'bones', 'bonnie', 'bonus', 'book', 'books', 'boom', 'boot', 'border', 'borders', 'bore', 'bored', 'boredom', 'boring', 'boris', 'born', 'borrowed', 'boss', 'bosses', 'boston', 'bother', 'bothered', 'bottle', 'bottom', 'bought', 'bound', 'bounty', 'bourne', 'bow', 'bowl', 'box', 'boxer', 'boxing', 'boy', 'boyer', 'boyfriend', 'boyle', 'boys', 'brad', 'brady', 'brain', 'brainless', 'brains', 'branagh', 'brand', 'brando', 'brat', 'brave', 'braveheart', 'bravo', 'brazil', 'bread', 'break', 'breakdown', 'breakfast', 'breaking', 'breaks', 'breast', 'breasts', 'breath', 'breathing', 'breathtaking', 'breed', 'brenda', 'brendan', 'brian', 'bride', 'bridge', 'bridges', 'bridget', 'brief', 'briefly', 'bright', 'brilliance', 'brilliant', 'brilliantly', 'bring', 'bringing', 'brings', 'britain', 'british', 'broad', 'broadcast', 'broadway', 'broke', 'broken', 'bronson', 'brooding', 'brooke', 'brooklyn', 'brooks', 'bros', 'brosnan', 'brother', 'brothers', 'brought', 'brow', 'brown', 'bruce', 'bruno', 'brutal', 'brutality', 'brutally', 'bsg', 'btw', 'bubble', 'buck', 'bucks', 'bud', 'buddies', 'buddy', 'budget', 'budgets', 'buff', 'buffalo', 'buffs', 'bug', 'bugs', 'build', 'building', 'buildings', 'builds', 'built', 'bulk', 'bull', 'bullet', 'bullets', 'bully', 'bumbling', 'bunch', 'bunny', 'buried', 'burke', 'burn', 'burned', 'burning', 'burns', 'burst', 'burt', 'burton', 'bus', 'busey', 'bush', 'business', 'businessman', 'buster', 'busy', 'butch', 'butcher', 'butler', 'butt', 'button', 'buy', 'buying', 'buys', 'buzz', 'bye', 'cab', 'cabin', 'cable', 'cage', 'cagney', 'cain', 'caine', 'cake', 'cal', 'caliber', 'california', 'call', 'called', 'calling', 'calls', 'calm', 'camcorder', 'came', 'cameo', 'cameos', 'camera', 'cameraman', 'cameras', 'cameron', 'camp', 'campaign', 'campbell', 'campus', 'campy', 'canada', 'canadian', 'canceled', 'cancer', 'candidate', 'candy', 'cannes', 'cannibal', 'cannon', 'cannot', 'cant', 'canyon', 'cap', 'capable', 'cape', 'capital', 'capote', 'captain', 'captivating', 'capture', 'captured', 'captures', 'capturing', 'car', 'card', 'cardboard', 'cards', 'care', 'cared', 'career', 'careers', 'careful', 'carefully', 'carell', 'cares', 'carey', 'caricature', 'caricatures', 'caring', 'carl', 'carla', 'carlito', 'carmen', 'carnage', 'carol', 'caron', 'carpenter', 'carradine', 'carrey', 'carrie', 'carried', 'carries', 'carry', 'carrying', 'cars', 'carter', 'cartoon', 'cartoonish', 'cartoons', 'cary', 'casablanca', 'case', 'cases', 'cash', 'casino', 'casper', 'cassavetes', 'cassidy', 'cast', 'casting', 'castle', 'casts', 'casual', 'cat', 'catch', 'catches', 'catching', 'catchy', 'category', 'catherine', 'catholic', 'cats', 'cattle', 'caught', 'cause', 'caused', 'causes', 'causing', 'cave', 'cbs', 'cd', 'cecil', 'celebrated', 'celebration', 'celebrity', 'cell', 'celluloid', 'cemetery', 'center', 'centered', 'centers', 'central', 'centre', 'cents', 'centuries', 'century', 'cerebral', 'certain', 'certainly', 'cg', 'cgi', 'chain', 'chainsaw', 'chair', 'challenge', 'challenged', 'challenges', 'challenging', 'chamber', 'chamberlain', 'champion', 'championship', 'chan', 'chance', 'chances', 'change', 'changed', 'changes', 'changing', 'channel', 'channels', 'chaos', 'chaplin', 'chapter', 'character', 'characteristics', 'characterization', 'characters', 'charge', 'charged', 'charisma', 'charismatic', 'charles', 'charlie', 'charlotte', 'charlton', 'charm', 'charming', 'charms', 'chase', 'chased', 'chases', 'chasing', 'chavez', 'che', 'cheadle', 'cheap', 'cheaply', 'cheated', 'cheating', 'check', 'checked', 'checking', 'cheek', 'cheer', 'cheese', 'cheesy', 'chemistry', 'cher', 'chess', 'chest', 'chiba', 'chicago', 'chick', 'chicken', 'chicks', 'chief', 'child', 'childhood', 'childish', 'children', 'chill', 'chilling', 'chills', 'china', 'chinese', 'choice', 'choices', 'chong', 'choose', 'chooses', 'choosing', 'chopped', 'choppy', 'choreographed', 'choreography', 'chorus', 'chose', 'chosen', 'chris', 'christ', 'christian', 'christianity', 'christians', 'christie', 'christina', 'christine', 'christmas', 'christopher', 'christy', 'chronicles', 'chuck', 'chuckle', 'church', 'cia', 'cigarette', 'cinderella', 'cindy', 'cinema', 'cinemas', 'cinematic', 'cinematographer', 'cinematography', 'circle', 'circles', 'circumstances', 'circus', 'cities', 'citizen', 'citizens', 'city', 'civil', 'civilization', 'clad', 'claim', 'claimed', 'claiming', 'claims', 'claire', 'clan', 'clara', 'clark', 'clarke', 'clash', 'class', 'classes', 'classic', 'classical', 'classics', 'classy', 'claude', 'claus', 'claustrophobic', 'clay', 'clean', 'cleaning', 'clear', 'clearly', 'clerk', 'clever', 'cleverly', 'clich', 'cliche', 'cliched', 'cliches', 'click', 'cliff', 'cliffhanger', 'climactic', 'climax', 'climb', 'clint', 'clip', 'clips', 'clive', 'clock', 'clone', 'clooney', 'close', 'closed', 'closely', 'closer', 'closest', 'closet', 'closing', 'clothes', 'clothing', 'clown', 'club', 'clue', 'clueless', 'clues', 'clumsy', 'co', 'coach', 'coast', 'coaster', 'coat', 'code', 'cody', 'coffee', 'coffin', 'cohen', 'coherent', 'coincidence', 'coke', 'cold', 'cole', 'colin', 'colleagues', 'collect', 'collection', 'collective', 'college', 'collette', 'collins', 'colman', 'colonel', 'color', 'colored', 'colorful', 'colors', 'colour', 'colours', 'columbia', 'columbo', 'com', 'coma', 'combat', 'combination', 'combine', 'combined', 'combines', 'combs', 'come', 'comeback', 'comedian', 'comedians', 'comedic', 'comedies', 'comedy', 'comes', 'comfort', 'comfortable', 'comic', 'comical', 'comics', 'coming', 'command', 'commander', 'comment', 'commentary', 'commented', 'commenting', 'comments', 'commercial', 'commercials', 'commit', 'commitment', 'commits', 'committed', 'common', 'communicate', 'communist', 'community', 'companies', 'companion', 'company', 'compare', 'compared', 'comparing', 'comparison', 'comparisons', 'compassion', 'compelled', 'compelling', 'compete', 'competent', 'competition', 'complain', 'complaining', 'complaint', 'complaints', 'complete', 'completed', 'completely', 'complex', 'complexity', 'complicated', 'compliment', 'composed', 'composer', 'comprehend', 'computer', 'computers', 'con', 'conan', 'conceived', 'concentrate', 'concept', 'concepts', 'concern', 'concerned', 'concerning', 'concerns', 'concert', 'conclude', 'conclusion', 'condition', 'conditions', 'confess', 'confidence', 'confident', 'conflict', 'conflicts', 'confront', 'confrontation', 'confronted', 'confused', 'confusing', 'confusion', 'connect', 'connected', 'connection', 'connections', 'connery', 'connor', 'conrad', 'cons', 'conscience', 'conscious', 'consciousness', 'consequence', 'consequences', 'consequently', 'conservative', 'consider', 'considerable', 'considerably', 'consideration', 'considered', 'considering', 'consist', 'consistent', 'consistently', 'consists', 'conspiracy', 'constant', 'constantly', 'constructed', 'construction', 'contact', 'contain', 'contained', 'containing', 'contains', 'contemporary', 'contempt', 'content', 'contest', 'contestants', 'context', 'continually', 'continue', 'continued', 'continues', 'continuing', 'continuity', 'contract', 'contrary', 'contrast', 'contribute', 'contributed', 'contribution', 'contrived', 'control', 'controlled', 'controlling', 'controversial', 'controversy', 'conveniently', 'convent', 'convention', 'conventional', 'conventions', 'conversation', 'conversations', 'convey', 'conveyed', 'conveys', 'convict', 'convicted', 'conviction', 'convince', 'convinced', 'convinces', 'convincing', 'convincingly', 'convoluted', 'cook', 'cookie', 'cooking', 'cool', 'cooper', 'cop', 'cope', 'copied', 'copies', 'cops', 'copy', 'corbett', 'core', 'corey', 'corman', 'corn', 'corner', 'corny', 'corporate', 'corporation', 'corpse', 'corpses', 'correct', 'correctly', 'corrupt', 'corruption', 'cost', 'costs', 'costume', 'costumes', 'couch', 'could', 'count', 'counter', 'countless', 'countries', 'country', 'countryside', 'counts', 'county', 'coup', 'couple', 'coupled', 'couples', 'courage', 'course', 'court', 'courtroom', 'cousin', 'cover', 'covered', 'covering', 'covers', 'cow', 'cowboy', 'cox', 'crack', 'cracking', 'craft', 'crafted', 'craig', 'crap', 'crappy', 'crash', 'crashes', 'crashing', 'craven', 'crawford', 'crazed', 'crazy', 'cream', 'creasy', 'create', 'created', 'creates', 'creating', 'creation', 'creative', 'creativity', 'creator', 'creators', 'creature', 'creatures', 'credibility', 'credible', 'credit', 'credited', 'credits', 'creek', 'creep', 'creepy', 'crew', 'cried', 'cries', 'crime', 'crimes', 'criminal', 'criminals', 'cringe', 'crippled', 'crisis', 'crisp', 'critic', 'critical', 'criticism', 'criticize', 'critics', 'critique', 'crocodile', 'crosby', 'cross', 'crossed', 'crosses', 'crossing', 'crowd', 'crown', 'crucial', 'crude', 'cruel', 'cruelty', 'cruise', 'crush', 'cry', 'crying', 'crystal', 'cuba', 'cuban', 'cube', 'cue', 'cult', 'cultural', 'culture', 'cultures', 'cunningham', 'cup', 'cure', 'curiosity', 'curious', 'curly', 'current', 'currently', 'curse', 'curtis', 'cusack', 'cushing', 'cut', 'cute', 'cuts', 'cutter', 'cutting', 'cyborg', 'cycle', 'cynical', 'cypher', 'da', 'dad', 'daddy', 'dahmer', 'daily', 'daisy', 'dalton', 'damage', 'damaged', 'dame', 'damme', 'damn', 'damned', 'damon', 'dan', 'dana', 'dance', 'dancer', 'dancers', 'dances', 'dancing', 'dandy', 'danes', 'danger', 'dangerous', 'daniel', 'daniels', 'danish', 'danny', 'dare', 'daring', 'dark', 'darker', 'darkness', 'darn', 'darren', 'darth', 'dashing', 'date', 'dated', 'dates', 'dating', 'daughter', 'daughters', 'dave', 'david', 'davies', 'davis', 'dawn', 'dawson', 'day', 'daylight', 'days', 'dazzling', 'de', 'dead', 'deadly', 'deaf', 'deal', 'dealer', 'dealing', 'deals', 'dealt', 'dean', 'deanna', 'dear', 'death', 'deaths', 'debate', 'debbie', 'debra', 'debt', 'debut', 'decade', 'decades', 'deceased', 'decent', 'decide', 'decided', 'decidedly', 'decides', 'deciding', 'decision', 'decisions', 'decline', 'dedicated', 'dee', 'deed', 'deep', 'deeper', 'deeply', 'deer', 'defeat', 'defeated', 'defend', 'defense', 'defies', 'define', 'defined', 'definite', 'definitely', 'definition', 'definitive', 'degree', 'degrees', 'del', 'deleted', 'deliberate', 'deliberately', 'delicate', 'delicious', 'deliciously', 'delight', 'delighted', 'delightful', 'delightfully', 'delirious', 'deliver', 'deliverance', 'delivered', 'delivering', 'delivers', 'delivery', 'demand', 'demanding', 'demands', 'demented', 'demille', 'demise', 'demon', 'demonic', 'demons', 'demonstrate', 'demonstrated', 'demonstrates', 'deniro', 'denis', 'denise', 'dennis', 'denouement', 'dentist', 'deny', 'denzel', 'department', 'departure', 'depending', 'depends', 'depict', 'depicted', 'depicting', 'depiction', 'depictions', 'depicts', 'depressed', 'depressing', 'depression', 'depth', 'depths', 'deputy', 'der', 'deranged', 'derek', 'derivative', 'des', 'descent', 'describe', 'described', 'describes', 'describing', 'description', 'desert', 'deserted', 'deserve', 'deserved', 'deserves', 'deserving', 'design', 'designed', 'designer', 'designs', 'desire', 'desired', 'desires', 'despair', 'desperate', 'desperately', 'desperation', 'despicable', 'despite', 'destination', 'destined', 'destiny', 'destroy', 'destroyed', 'destroying', 'destroys', 'destruction', 'destructive', 'detail', 'detailed', 'details', 'detective', 'detectives', 'determination', 'determined', 'detract', 'detroit', 'devastating', 'develop', 'developed', 'developing', 'development', 'develops', 'device', 'devices', 'devil', 'devoid', 'devoted', 'dialog', 'dialogs', 'dialogue', 'dialogues', 'diamond', 'diana', 'diane', 'diary', 'dick', 'dickens', 'die', 'died', 'dies', 'difference', 'differences', 'different', 'differently', 'difficult', 'difficulties', 'difficulty', 'dig', 'digital', 'dignity', 'dilemma', 'dillinger', 'dim', 'dimension', 'dimensional', 'din', 'dinner', 'dinosaur', 'dinosaurs', 'dire', 'direct', 'directed', 'directing', 'direction', 'directions', 'directly', 'director', 'directorial', 'directors', 'directs', 'dirt', 'dirty', 'disabled', 'disagree', 'disappear', 'disappeared', 'disappears', 'disappoint', 'disappointed', 'disappointing', 'disappointment', 'disaster', 'disastrous', 'disbelief', 'disc', 'discover', 'discovered', 'discovering', 'discovers', 'discovery', 'discuss', 'discussed', 'discussing', 'discussion', 'disease', 'disgrace', 'disguise', 'disguised', 'disgust', 'disgusted', 'disgusting', 'disjointed', 'dislike', 'disliked', 'dismal', 'disney', 'disorder', 'display', 'displayed', 'displays', 'distance', 'distant', 'distinct', 'distract', 'distracted', 'distracting', 'distraction', 'distress', 'distribution', 'disturbed', 'disturbing', 'diverse', 'divine', 'divorce', 'divorced', 'dixon', 'dj', 'doc', 'doctor', 'doctors', 'document', 'documentaries', 'documentary', 'dog', 'dogs', 'doll', 'dollar', 'dollars', 'dolls', 'dolph', 'domestic', 'dominated', 'dominic', 'domino', 'donald', 'done', 'donna', 'dont', 'doo', 'doom', 'doomed', 'door', 'doors', 'dorothy', 'dose', 'double', 'doubt', 'doubts', 'douglas', 'downey', 'downhill', 'downright', 'downs', 'doyle', 'dozen', 'dozens', 'dr', 'drab', 'dracula', 'drag', 'dragged', 'dragon', 'dragons', 'drags', 'drake', 'drama', 'dramas', 'dramatic', 'dramatically', 'draw', 'drawing', 'drawn', 'draws', 'dread', 'dreadful', 'dream', 'dreams', 'dreamy', 'dreary', 'dreck', 'dress', 'dressed', 'dresses', 'dressing', 'drew', 'drink', 'drinking', 'drinks', 'drive', 'drivel', 'driven', 'driver', 'drives', 'driving', 'drop', 'dropped', 'dropping', 'drops', 'drove', 'drug', 'drugs', 'drunk', 'drunken', 'dry', 'dub', 'dubbed', 'dubbing', 'dubious', 'duck', 'dud', 'dude', 'dudley', 'due', 'duel', 'duh', 'duke', 'dukes', 'dull', 'dumb', 'dumber', 'dumbest', 'dump', 'dumped', 'duo', 'duration', 'dust', 'dustin', 'dutch', 'duty', 'duvall', 'dvd', 'dvds', 'dying', 'dylan', 'dynamic', 'dynamics', 'dysfunctional', 'eager', 'eagerly', 'ear', 'earl', 'earlier', 'early', 'earn', 'earned', 'earnest', 'ears', 'earth', 'ease', 'easier', 'easily', 'east', 'eastern', 'eastwood', 'easy', 'eat', 'eaten', 'eating', 'eats', 'ebert', 'eccentric', 'economic', 'ed', 'eddie', 'edgar', 'edge', 'edgy', 'edie', 'edison', 'edit', 'edited', 'edith', 'editing', 'edition', 'editor', 'educated', 'education', 'educational', 'edward', 'eerie', 'effect', 'effective', 'effectively', 'effects', 'effort', 'efforts', 'ego', 'eight', 'eighties', 'einstein', 'either', 'el', 'elaborate', 'elderly', 'election', 'electric', 'elegant', 'element', 'elements', 'elephant', 'elevator', 'eleven', 'eli', 'elite', 'elizabeth', 'ellen', 'elliott', 'elm', 'else', 'elsewhere', 'elvira', 'elvis', 'em', 'embarrassed', 'embarrassing', 'embarrassingly', 'embarrassment', 'embrace', 'emerge', 'emerges', 'emily', 'emma', 'emotion', 'emotional', 'emotionally', 'emotions', 'empathy', 'emperor', 'emphasis', 'empire', 'employed', 'employee', 'empty', 'en', 'enchanted', 'encounter', 'encountered', 'encounters', 'encourage', 'end', 'endearing', 'ended', 'ending', 'endings', 'endless', 'endlessly', 'ends', 'endure', 'enemies', 'enemy', 'energetic', 'energy', 'engage', 'engaged', 'engaging', 'england', 'english', 'engrossing', 'enhance', 'enhanced', 'enigmatic', 'enjoy', 'enjoyable', 'enjoyed', 'enjoying', 'enjoyment', 'enjoys', 'enormous', 'enough', 'ensemble', 'ensues', 'ensure', 'enter', 'entered', 'entering', 'enterprise', 'enters', 'entertain', 'entertained', 'entertaining', 'entertainment', 'enthusiasm', 'enthusiastic', 'entire', 'entirely', 'entirety', 'entitled', 'entry', 'environment', 'envy', 'epic', 'episode', 'episodes', 'equal', 'equally', 'equipment', 'equivalent', 'er', 'era', 'eric', 'erika', 'erotic', 'errol', 'error', 'errors', 'escape', 'escaped', 'escapes', 'escaping', 'especially', 'esquire', 'essence', 'essential', 'essentially', 'establish', 'established', 'establishing', 'establishment', 'estate', 'esther', 'estranged', 'et', 'etc', 'eternal', 'eternity', 'ethan', 'ethnic', 'eugene', 'europa', 'europe', 'european', 'europeans', 'eva', 'eve', 'evelyn', 'even', 'evening', 'event', 'events', 'eventual', 'eventually', 'ever', 'every', 'everybody', 'everyday', 'everyone', 'everything', 'everywhere', 'evidence', 'evident', 'evidently', 'evil', 'evolution', 'ex', 'exact', 'exactly', 'exaggerated', 'examination', 'example', 'examples', 'excellent', 'excellently', 'except', 'exception', 'exceptional', 'exceptionally', 'exceptions', 'excess', 'excessive', 'exchange', 'excited', 'excitement', 'exciting', 'exclusively', 'excruciating', 'excruciatingly', 'excuse', 'excuses', 'executed', 'execution', 'executive', 'executives', 'exercise', 'exist', 'existed', 'existence', 'existent', 'exists', 'exit', 'exorcist', 'exotic', 'expect', 'expectation', 'expectations', 'expected', 'expecting', 'expects', 'expedition', 'expense', 'expensive', 'experience', 'experienced', 'experiences', 'experiencing', 'experiment', 'experimental', 'experiments', 'expert', 'expertly', 'explain', 'explained', 'explaining', 'explains', 'explanation', 'explicit', 'explodes', 'exploding', 'exploit', 'exploitation', 'exploited', 'exploits', 'exploration', 'explore', 'explored', 'explores', 'exploring', 'explosion', 'explosions', 'explosive', 'expose', 'exposed', 'exposition', 'exposure', 'express', 'expressed', 'expression', 'expressions', 'exquisite', 'extended', 'extent', 'exterior', 'extra', 'extraordinary', 'extras', 'extreme', 'extremely', 'eye', 'eyed', 'eyes', 'eyre', 'fabulous', 'face', 'faced', 'faces', 'facial', 'facing', 'fact', 'factor', 'factors', 'factory', 'facts', 'factual', 'fade', 'fail', 'failed', 'failing', 'fails', 'failure', 'fair', 'fairbanks', 'fairly', 'fairy', 'faith', 'faithful', 'fake', 'falk', 'fall', 'fallen', 'falling', 'fallon', 'falls', 'false', 'fame', 'familiar', 'families', 'family', 'famous', 'fan', 'fanatic', 'fancy', 'fans', 'fantasies', 'fantastic', 'fantasy', 'far', 'farce', 'fare', 'farm', 'farmer', 'farrell', 'fascinated', 'fascinating', 'fascination', 'fascist', 'fashion', 'fashioned', 'fassbinder', 'fast', 'faster', 'fat', 'fatal', 'fatale', 'fate', 'father', 'fathers', 'fault', 'faults', 'faux', 'favor', 'favorite', 'favorites', 'favour', 'favourite', 'fay', 'fbi', 'fear', 'fears', 'feast', 'feat', 'feature', 'featured', 'features', 'featuring', 'fed', 'feeble', 'feed', 'feeding', 'feel', 'feeling', 'feelings', 'feels', 'feet', 'felix', 'fell', 'fellow', 'felt', 'female', 'females', 'feminine', 'feminist', 'femme', 'fest', 'festival', 'festivals', 'fetched', 'fever', 'fi', 'fianc', 'fiction', 'fictional', 'fido', 'field', 'fields', 'fifteen', 'fifth', 'fifties', 'fifty', 'fight', 'fighter', 'fighting', 'fights', 'figure', 'figured', 'figures', 'files', 'fill', 'filled', 'filler', 'filling', 'fills', 'film', 'filmed', 'filming', 'filmmaker', 'filmmakers', 'filmmaking', 'films', 'filth', 'filthy', 'final', 'finale', 'finally', 'financial', 'find', 'finding', 'finds', 'fine', 'finest', 'finger', 'fingers', 'finish', 'finished', 'fire', 'fired', 'firing', 'firm', 'firmly', 'first', 'firstly', 'fish', 'fishburne', 'fisher', 'fishing', 'fist', 'fit', 'fits', 'fitting', 'five', 'fix', 'flair', 'flames', 'flash', 'flashback', 'flashbacks', 'flashes', 'flashy', 'flat', 'flavia', 'flavor', 'flaw', 'flawed', 'flawless', 'flaws', 'fleet', 'flesh', 'fleshed', 'flick', 'flicks', 'flies', 'flight', 'flimsy', 'floating', 'flock', 'floor', 'flop', 'florida', 'flow', 'flower', 'flowers', 'fluff', 'fluid', 'fly', 'flying', 'flynn', 'focus', 'focused', 'focuses', 'focusing', 'fog', 'foil', 'folk', 'folks', 'follow', 'followed', 'followers', 'following', 'follows', 'fond', 'fonda', 'fontaine', 'food', 'fool', 'fooled', 'foolish', 'fools', 'foot', 'footage', 'football', 'forbidden', 'force', 'forced', 'forces', 'forcing', 'ford', 'foreign', 'forest', 'forever', 'forget', 'forgettable', 'forgetting', 'forgive', 'forgiven', 'forgot', 'forgotten', 'form', 'format', 'formed', 'former', 'forms', 'formula', 'formulaic', 'forth', 'forties', 'fortunately', 'fortune', 'forty', 'forward', 'foster', 'fought', 'foul', 'found', 'foundation', 'four', 'fourth', 'fox', 'foxx', 'fragile', 'frame', 'framed', 'frames', 'france', 'frances', 'franchise', 'francis', 'francisco', 'franco', 'frank', 'frankenstein', 'frankie', 'franklin', 'frankly', 'frantic', 'freak', 'freaking', 'freaks', 'freaky', 'fred', 'freddy', 'free', 'freedom', 'freeman', 'freeze', 'french', 'frequent', 'frequently', 'fresh', 'friday', 'fried', 'friend', 'friendly', 'friends', 'friendship', 'fright', 'frightened', 'frightening', 'frog', 'front', 'frontal', 'frontier', 'frozen', 'frustrated', 'frustrating', 'frustration', 'fu', 'fulci', 'full', 'fuller', 'fully', 'fun', 'function', 'funding', 'funeral', 'funnier', 'funniest', 'funny', 'furious', 'furniture', 'furthermore', 'fury', 'future', 'futuristic', 'fuzzy', 'fx', 'gable', 'gabriel', 'gadget', 'gag', 'gags', 'gain', 'gained', 'gal', 'galactica', 'galaxy', 'gallery', 'gambling', 'game', 'gamera', 'games', 'gandhi', 'gang', 'gangster', 'gangsters', 'gap', 'garbage', 'garbo', 'garden', 'garland', 'garner', 'gary', 'gas', 'gate', 'gates', 'gather', 'gave', 'gay', 'gear', 'geek', 'geisha', 'gem', 'gems', 'gender', 'gene', 'general', 'generally', 'generate', 'generated', 'generation', 'generations', 'generic', 'generous', 'genie', 'genius', 'genre', 'genres', 'gentle', 'gentleman', 'gentlemen', 'genuine', 'genuinely', 'george', 'georges', 'georgia', 'gerard', 'gere', 'german', 'germans', 'germany', 'gershwin', 'get', 'gets', 'getting', 'ghetto', 'ghost', 'ghosts', 'giallo', 'giant', 'giants', 'gibson', 'gielgud', 'gift', 'gifted', 'gilbert', 'gilliam', 'gillian', 'gimmick', 'gina', 'ginger', 'giovanna', 'girl', 'girlfriend', 'girls', 'give', 'given', 'gives', 'giving', 'glad', 'glamorous', 'glaring', 'glass', 'glasses', 'glenn', 'glimpse', 'global', 'globe', 'gloria', 'glorious', 'glory', 'glover', 'glowing', 'glued', 'go', 'goal', 'goals', 'god', 'godard', 'godfather', 'gods', 'godzilla', 'goers', 'goes', 'going', 'gold', 'goldberg', 'goldblum', 'golden', 'goldie', 'goldsworthy', 'gone', 'gonna', 'good', 'goodbye', 'gooding', 'goodman', 'goodness', 'goods', 'goofy', 'gordon', 'gore', 'gorgeous', 'gory', 'got', 'gothic', 'gotta', 'gotten', 'government', 'grab', 'grabbed', 'grabs', 'grace', 'grade', 'gradually', 'graduate', 'graham', 'grainy', 'grand', 'grandfather', 'grandma', 'grandmother', 'grant', 'granted', 'graphic', 'graphics', 'grasp', 'grass', 'grateful', 'gratuitous', 'grave', 'graveyard', 'gray', 'grayson', 'great', 'greater', 'greatest', 'greatly', 'greatness', 'greed', 'greedy', 'greek', 'green', 'greene', 'greg', 'gregory', 'grew', 'grey', 'grief', 'griffith', 'grim', 'grinch', 'grip', 'gripping', 'gritty', 'gross', 'grotesque', 'ground', 'grounds', 'group', 'groups', 'grow', 'growing', 'grown', 'grows', 'growth', 'grudge', 'gruesome', 'guarantee', 'guaranteed', 'guard', 'guardian', 'guards', 'guess', 'guessed', 'guessing', 'guest', 'guests', 'guide', 'guilt', 'guilty', 'guinea', 'guinness', 'guitar', 'gun', 'gundam', 'gunga', 'guns', 'gut', 'guts', 'guy', 'guys', 'gwyneth', 'gypo', 'ha', 'habit', 'hack', 'hackman', 'hackneyed', 'hadley', 'haines', 'hair', 'haired', 'hal', 'half', 'halfway', 'hall', 'halloween', 'ham', 'hamilton', 'hamlet', 'hammer', 'hammy', 'hand', 'handed', 'handful', 'handle', 'handled', 'handles', 'handling', 'hands', 'handsome', 'hang', 'hanging', 'hangs', 'hank', 'hanks', 'hannah', 'hapless', 'happen', 'happened', 'happening', 'happens', 'happily', 'happiness', 'happy', 'hara', 'hard', 'hardcore', 'harder', 'hardly', 'hardy', 'harlow', 'harm', 'harmless', 'harold', 'harriet', 'harris', 'harrison', 'harry', 'harsh', 'hart', 'hartley', 'harvey', 'hat', 'hate', 'hated', 'hateful', 'hates', 'hatred', 'hats', 'haunted', 'haunting', 'havoc', 'hawke', 'hayes', 'hayworth', 'hbo', 'head', 'headache', 'headed', 'heading', 'heads', 'health', 'healthy', 'hear', 'heard', 'hearing', 'hears', 'heart', 'heartbreaking', 'hearted', 'heartfelt', 'hearts', 'heartwarming', 'heat', 'heath', 'heaven', 'heavily', 'heavy', 'heck', 'heels', 'height', 'heights', 'heist', 'held', 'helen', 'helicopter', 'hell', 'hello', 'help', 'helped', 'helpful', 'helping', 'helpless', 'helps', 'hence', 'henry', 'hepburn', 'herbert', 'herman', 'hero', 'heroes', 'heroic', 'heroine', 'heston', 'hey', 'hi', 'hidden', 'hide', 'hideous', 'hides', 'hiding', 'high', 'higher', 'highest', 'highlight', 'highlights', 'highly', 'highway', 'hilarious', 'hilariously', 'hilarity', 'hill', 'hills', 'hindi', 'hint', 'hints', 'hip', 'hippie', 'hippies', 'hire', 'hired', 'hires', 'historic', 'historical', 'historically', 'history', 'hit', 'hitchcock', 'hitler', 'hits', 'hitting', 'hk', 'hmmm', 'ho', 'hoffman', 'hokey', 'hold', 'holding', 'holds', 'hole', 'holes', 'holiday', 'hollow', 'holly', 'hollywood', 'holmes', 'holocaust', 'holy', 'homage', 'home', 'homeless', 'homer', 'homes', 'homicide', 'homosexual', 'homosexuality', 'honest', 'honestly', 'honesty', 'hong', 'honor', 'hood', 'hook', 'hooked', 'hooker', 'hooper', 'hoot', 'hop', 'hope', 'hoped', 'hopefully', 'hopeless', 'hopelessly', 'hopes', 'hoping', 'hopkins', 'hopper', 'horny', 'horrendous', 'horrible', 'horribly', 'horrid', 'horrific', 'horrified', 'horrifying', 'horror', 'horrors', 'horse', 'horses', 'hospital', 'host', 'hostel', 'hot', 'hotel', 'hour', 'hours', 'house', 'household', 'houses', 'housewife', 'howard', 'however', 'http', 'hudson', 'huge', 'hugely', 'hugh', 'hughes', 'huh', 'hulk', 'hum', 'human', 'humanity', 'humans', 'humble', 'humor', 'humorous', 'humour', 'hundred', 'hundreds', 'hung', 'hungry', 'hunt', 'hunter', 'hunters', 'hunting', 'hurt', 'hurts', 'husband', 'husbands', 'huston', 'hybrid', 'hyde', 'hype', 'hyped', 'hyper', 'hysterical', 'ian', 'ice', 'icon', 'iconic', 'id', 'idea', 'ideal', 'ideas', 'identical', 'identify', 'identity', 'idiot', 'idiotic', 'idiots', 'idol', 'ie', 'ignorance', 'ignorant', 'ignore', 'ignored', 'ii', 'iii', 'ill', 'illegal', 'illness', 'illogical', 'im', 'image', 'imagery', 'images', 'imaginable', 'imagination', 'imaginative', 'imagine', 'imagined', 'imdb', 'imitation', 'immature', 'immediate', 'immediately', 'immense', 'immensely', 'immigrant', 'immortal', 'imo', 'impact', 'implausible', 'implied', 'importance', 'important', 'importantly', 'impossible', 'impress', 'impressed', 'impression', 'impressive', 'improbable', 'improve', 'improved', 'improvement', 'inability', 'inaccuracies', 'inaccurate', 'inane', 'inappropriate', 'incapable', 'incident', 'incidentally', 'incidents', 'include', 'included', 'includes', 'including', 'inclusion', 'incoherent', 'incompetent', 'incomprehensible', 'inconsistent', 'incorrect', 'increasingly', 'incredible', 'incredibly', 'indeed', 'independence', 'independent', 'india', 'indian', 'indiana', 'indians', 'indicate', 'indication', 'indie', 'indifferent', 'individual', 'individuals', 'inducing', 'indulgent', 'industrial', 'industry', 'inept', 'inevitable', 'inevitably', 'inexplicable', 'inexplicably', 'infamous', 'infected', 'inferior', 'influence', 'influenced', 'info', 'information', 'informative', 'informed', 'ingenious', 'ingredients', 'ingrid', 'inhabitants', 'inherent', 'initial', 'initially', 'injured', 'inmates', 'inner', 'innocence', 'innocent', 'innovative', 'insane', 'insanity', 'inside', 'insight', 'insightful', 'insights', 'insipid', 'insist', 'insists', 'insomnia', 'inspector', 'inspiration', 'inspirational', 'inspire', 'inspired', 'inspiring', 'installment', 'instance', 'instances', 'instant', 'instantly', 'instead', 'instinct', 'instincts', 'institution', 'insult', 'insulting', 'insults', 'insurance', 'intact', 'integrity', 'intellectual', 'intelligence', 'intelligent', 'intended', 'intense', 'intensely', 'intensity', 'intent', 'intention', 'intentional', 'intentionally', 'intentions', 'interact', 'interaction', 'interactions', 'interest', 'interested', 'interesting', 'interestingly', 'interests', 'internal', 'international', 'internet', 'interpretation', 'interview', 'interviews', 'intimate', 'intricate', 'intrigue', 'intrigued', 'intriguing', 'intro', 'introduce', 'introduced', 'introduces', 'introducing', 'introduction', 'invasion', 'invented', 'invention', 'inventive', 'investigate', 'investigating', 'investigation', 'investigator', 'invisible', 'invite', 'invited', 'invites', 'involve', 'involved', 'involvement', 'involves', 'involving', 'ira', 'iran', 'iranian', 'iraq', 'ireland', 'irene', 'irish', 'iron', 'ironic', 'ironically', 'irony', 'irrelevant', 'irritating', 'ish', 'island', 'isolated', 'isolation', 'israel', 'israeli', 'issue', 'issues', 'italian', 'italy', 'item', 'items', 'iturbi', 'iv', 'jack', 'jacket', 'jackie', 'jackson', 'jacques', 'jaded', 'jail', 'jake', 'james', 'jamie', 'jan', 'jane', 'japan', 'japanese', 'jared', 'jarring', 'jason', 'jaw', 'jaws', 'jay', 'jazz', 'jealous', 'jealousy', 'jean', 'jedi', 'jeff', 'jeffrey', 'jenna', 'jennifer', 'jenny', 'jeremy', 'jerk', 'jerry', 'jersey', 'jess', 'jesse', 'jessica', 'jesus', 'jet', 'jewel', 'jewish', 'jews', 'jill', 'jim', 'jimmy', 'joan', 'job', 'jobs', 'jodie', 'joe', 'joel', 'joey', 'johansson', 'john', 'johnny', 'johnson', 'join', 'joined', 'joins', 'joke', 'joker', 'jokes', 'jolie', 'jon', 'jonathan', 'jones', 'jordan', 'jose', 'joseph', 'josh', 'journalist', 'journey', 'joy', 'jr', 'juan', 'judd', 'judge', 'judged', 'judging', 'judgment', 'judy', 'jules', 'julia', 'julian', 'julie', 'juliet', 'juliette', 'july', 'jump', 'jumped', 'jumping', 'jumps', 'june', 'jungle', 'junior', 'junk', 'jury', 'justice', 'justified', 'justify', 'justin', 'juvenile', 'kane', 'kansas', 'kapoor', 'karate', 'karen', 'karl', 'karloff', 'kate', 'kathleen', 'kathryn', 'kathy', 'kay', 'kazan', 'keaton', 'keen', 'keep', 'keeping', 'keeps', 'keith', 'kelly', 'ken', 'kennedy', 'kenneth', 'kent', 'kept', 'kevin', 'key', 'keys', 'khan', 'kick', 'kicked', 'kicking', 'kicks', 'kid', 'kidding', 'kidman', 'kidnap', 'kidnapped', 'kidnapping', 'kids', 'kill', 'killed', 'killer', 'killers', 'killing', 'killings', 'kills', 'kim', 'kind', 'kinda', 'kinds', 'king', 'kingdom', 'kinnear', 'kirk', 'kiss', 'kissing', 'kitchen', 'kitty', 'kline', 'knew', 'knife', 'knight', 'knightley', 'knock', 'knocked', 'knocks', 'know', 'knowing', 'knowledge', 'known', 'knows', 'kolchak', 'kong', 'korea', 'korean', 'kris', 'kubrick', 'kudos', 'kumar', 'kung', 'kurosawa', 'kurt', 'kyle', 'la', 'lab', 'label', 'labor', 'lack', 'lacked', 'lacking', 'lackluster', 'lacks', 'ladder', 'laden', 'ladies', 'lady', 'laid', 'lake', 'lame', 'lampoon', 'lance', 'land', 'landed', 'landing', 'lands', 'landscape', 'landscapes', 'lane', 'lang', 'language', 'laputa', 'large', 'largely', 'larger', 'larry', 'las', 'last', 'lasted', 'lasting', 'lasts', 'late', 'lately', 'later', 'latest', 'latin', 'latter', 'laugh', 'laughable', 'laughably', 'laughed', 'laughing', 'laughs', 'laughter', 'laura', 'laurel', 'lauren', 'laurence', 'laurie', 'lavish', 'law', 'lawrence', 'laws', 'lawyer', 'lay', 'layers', 'lazy', 'le', 'lead', 'leader', 'leaders', 'leading', 'leads', 'league', 'lean', 'leap', 'learn', 'learned', 'learning', 'learns', 'least', 'leather', 'leave', 'leaves', 'leaving', 'led', 'lee', 'left', 'leg', 'legacy', 'legal', 'legend', 'legendary', 'legends', 'legitimate', 'legs', 'leigh', 'lemmon', 'lena', 'lend', 'lends', 'length', 'lengthy', 'lennon', 'leo', 'leon', 'leonard', 'les', 'lesbian', 'leslie', 'less', 'lesser', 'lesson', 'lessons', 'lester', 'let', 'lethal', 'lets', 'letter', 'letters', 'letting', 'level', 'levels', 'lewis', 'lex', 'li', 'liam', 'liberal', 'library', 'lie', 'lies', 'life', 'lifeless', 'lifestyle', 'lifetime', 'lift', 'lifted', 'light', 'lighter', 'lighting', 'lightning', 'lights', 'likable', 'like', 'likeable', 'liked', 'likely', 'likes', 'likewise', 'liking', 'lily', 'limit', 'limitations', 'limited', 'limits', 'lincoln', 'linda', 'lindsay', 'line', 'linear', 'liners', 'lines', 'link', 'lion', 'lionel', 'lip', 'lips', 'lisa', 'list', 'listed', 'listen', 'listening', 'lit', 'literal', 'literally', 'literary', 'literature', 'little', 'liu', 'live', 'lived', 'lively', 'lives', 'living', 'lloyd', 'load', 'loaded', 'loads', 'local', 'locals', 'located', 'location', 'locations', 'lock', 'locked', 'logan', 'logic', 'logical', 'lois', 'lol', 'lola', 'london', 'lone', 'loneliness', 'lonely', 'long', 'longer', 'longest', 'longing', 'longoria', 'look', 'looked', 'looking', 'looks', 'loose', 'loosely', 'lord', 'loren', 'loretta', 'los', 'lose', 'loser', 'losers', 'loses', 'losing', 'loss', 'lost', 'lot', 'lots', 'lou', 'loud', 'louis', 'louise', 'lousy', 'lovable', 'love', 'loved', 'lovely', 'lover', 'lovers', 'loves', 'loving', 'low', 'lowe', 'lower', 'lowest', 'loy', 'loyal', 'loyalty', 'lucas', 'lucille', 'luck', 'luckily', 'lucky', 'lucy', 'ludicrous', 'lugosi', 'luis', 'lukas', 'luke', 'lumet', 'lunch', 'lundgren', 'lush', 'lust', 'lying', 'lynch', 'lyrics', 'mabel', 'macabre', 'macarthur', 'macdonald', 'machine', 'machines', 'macho', 'macy', 'mad', 'made', 'madness', 'madonna', 'madsen', 'mafia', 'magazine', 'maggie', 'magic', 'magical', 'magician', 'magnificent', 'maid', 'mail', 'main', 'mainly', 'mainstream', 'maintain', 'major', 'majority', 'make', 'maker', 'makers', 'makes', 'makeup', 'making', 'male', 'males', 'mall', 'malone', 'mama', 'man', 'manage', 'managed', 'manager', 'manages', 'mandy', 'manhattan', 'maniac', 'manipulative', 'mankind', 'mann', 'manner', 'mannerisms', 'manners', 'mansion', 'many', 'map', 'marc', 'march', 'margaret', 'maria', 'marie', 'marilyn', 'mario', 'marion', 'mark', 'market', 'marketing', 'marks', 'marlon', 'marriage', 'married', 'marries', 'marry', 'mars', 'marshall', 'martha', 'martial', 'martian', 'martin', 'marty', 'marvel', 'marvelous', 'mary', 'mask', 'masks', 'mason', 'mass', 'massacre', 'masses', 'massive', 'master', 'masterful', 'masterfully', 'masterpiece', 'masterpieces', 'masters', 'masterson', 'match', 'matched', 'matches', 'mate', 'material', 'mates', 'mathieu', 'matrix', 'matt', 'matter', 'matters', 'matthau', 'matthew', 'mature', 'maureen', 'max', 'may', 'maybe', 'mayhem', 'mayor', 'mccarthy', 'mccoy', 'mclaglen', 'mcqueen', 'meal', 'mean', 'meandering', 'meaning', 'meaningful', 'meaningless', 'means', 'meant', 'meantime', 'meanwhile', 'measure', 'meat', 'mechanical', 'media', 'medical', 'medicine', 'medieval', 'mediocre', 'medium', 'meet', 'meeting', 'meets', 'meg', 'mel', 'melissa', 'melodrama', 'melodramatic', 'melody', 'melting', 'melvyn', 'member', 'members', 'memorable', 'memories', 'memory', 'men', 'menace', 'menacing', 'mental', 'mentality', 'mentally', 'mention', 'mentioned', 'mentioning', 'mentions', 'mentor', 'mercy', 'mere', 'merely', 'merit', 'merits', 'mermaid', 'meryl', 'mesmerizing', 'mess', 'message', 'messages', 'messed', 'messing', 'messy', 'met', 'metal', 'metaphor', 'meteor', 'method', 'methods', 'mexican', 'mexico', 'meyer', 'mgm', 'miami', 'mice', 'michael', 'michelle', 'mick', 'mickey', 'mid', 'middle', 'midnight', 'might', 'mighty', 'miike', 'mike', 'mild', 'mildly', 'mildred', 'mile', 'miles', 'military', 'milk', 'mill', 'miller', 'million', 'millionaire', 'millions', 'milo', 'min', 'mind', 'minded', 'mindless', 'minds', 'mine', 'mini', 'minimal', 'minimum', 'miniseries', 'minister', 'minnelli', 'minor', 'minority', 'mins', 'minus', 'minute', 'minutes', 'miracle', 'miranda', 'mirror', 'mirrors', 'miscast', 'miserable', 'miserably', 'misery', 'misfortune', 'misguided', 'misleading', 'miss', 'missed', 'misses', 'missile', 'missing', 'mission', 'mistake', 'mistaken', 'mistakes', 'mistress', 'misunderstood', 'mitch', 'mitchell', 'mitchum', 'mix', 'mixed', 'mixing', 'mixture', 'miyazaki', 'mm', 'mob', 'mobile', 'mock', 'mode', 'model', 'models', 'modern', 'modest', 'modesty', 'moe', 'mol', 'mole', 'molly', 'mom', 'moment', 'moments', 'momentum', 'mon', 'money', 'monk', 'monkey', 'monkeys', 'monologue', 'monster', 'monsters', 'montage', 'montana', 'month', 'months', 'monty', 'mood', 'moody', 'moon', 'moore', 'moral', 'morality', 'morally', 'morals', 'morbid', 'moreover', 'morgan', 'mormon', 'morning', 'moron', 'moronic', 'morons', 'morris', 'mortal', 'moss', 'mostly', 'mother', 'mothers', 'motion', 'motions', 'motivation', 'motivations', 'motive', 'motives', 'motorcycle', 'mountain', 'mountains', 'mouse', 'mouth', 'mouthed', 'mouths', 'move', 'moved', 'movement', 'movements', 'moves', 'movie', 'movies', 'moving', 'mr', 'mrs', 'ms', 'mst', 'mtv', 'much', 'muddled', 'multi', 'multiple', 'mum', 'mummy', 'mundane', 'muppet', 'muppets', 'murder', 'murdered', 'murderer', 'murdering', 'murderous', 'murders', 'murky', 'murphy', 'murray', 'museum', 'music', 'musical', 'musicals', 'musician', 'musicians', 'muslim', 'muslims', 'must', 'mutant', 'mute', 'mutual', 'myers', 'mysteries', 'mysterious', 'mysteriously', 'mystery', 'mystical', 'myth', 'mythology', 'nail', 'nails', 'naive', 'naked', 'name', 'named', 'namely', 'names', 'nancy', 'narrated', 'narration', 'narrative', 'narrator', 'narrow', 'naschy', 'nasty', 'natalie', 'nathan', 'nation', 'national', 'nations', 'native', 'natives', 'natural', 'naturally', 'nature', 'natured', 'naughty', 'navy', 'nazi', 'nazis', 'nbc', 'nd', 'near', 'nearby', 'nearly', 'neat', 'neatly', 'necessarily', 'necessary', 'neck', 'ned', 'need', 'needed', 'needless', 'needs', 'negative', 'neglected', 'neighbor', 'neighborhood', 'neighbors', 'neil', 'neill', 'neither', 'nelson', 'nemesis', 'neo', 'nephew', 'nerd', 'nerve', 'nerves', 'nervous', 'net', 'netflix', 'network', 'neurotic', 'never', 'nevertheless', 'new', 'newcomer', 'newer', 'newly', 'newman', 'news', 'newspaper', 'next', 'nice', 'nicely', 'nicholas', 'nicholson', 'nick', 'nicolas', 'nicole', 'niece', 'night', 'nightclub', 'nightmare', 'nightmares', 'nights', 'nina', 'nine', 'ninja', 'niro', 'niven', 'noble', 'nobody', 'nod', 'noir', 'noise', 'noises', 'nolan', 'nolte', 'nominated', 'nomination', 'nominations', 'non', 'none', 'nonetheless', 'nonsense', 'nonsensical', 'nope', 'norm', 'normal', 'normally', 'norman', 'north', 'northam', 'northern', 'nose', 'nostalgia', 'nostalgic', 'notable', 'notably', 'notch', 'note', 'noted', 'notes', 'noteworthy', 'nothing', 'notice', 'noticeable', 'noticed', 'notion', 'notorious', 'novak', 'novel', 'novels', 'novelty', 'nowadays', 'nowhere', 'nuances', 'nuclear', 'nude', 'nudity', 'number', 'numbers', 'numbing', 'numerous', 'nun', 'nurse', 'nut', 'nuts', 'ny', 'nyc', 'object', 'objective', 'objects', 'obligatory', 'obnoxious', 'obscure', 'obsessed', 'obsession', 'obsessive', 'obstacles', 'obtain', 'obvious', 'obviously', 'occasion', 'occasional', 'occasionally', 'occasions', 'occur', 'occurred', 'occurs', 'ocean', 'odd', 'oddly', 'odds', 'odyssey', 'offbeat', 'offended', 'offensive', 'offer', 'offered', 'offering', 'offers', 'office', 'officer', 'officers', 'official', 'offs', 'often', 'oh', 'oil', 'ok', 'okay', 'ol', 'old', 'older', 'oldest', 'olds', 'oliver', 'olivia', 'olivier', 'ollie', 'omen', 'ominous', 'one', 'ones', 'online', 'onto', 'open', 'opened', 'opening', 'opens', 'opera', 'operation', 'opinion', 'opinions', 'opportunities', 'opportunity', 'opposed', 'opposite', 'optimistic', 'option', 'orange', 'ordeal', 'order', 'ordered', 'orders', 'ordinary', 'organized', 'oriented', 'origin', 'original', 'originality', 'originally', 'originals', 'origins', 'orleans', 'orson', 'oscar', 'oscars', 'othello', 'others', 'otherwise', 'otto', 'ought', 'outcome', 'outdated', 'outer', 'outfit', 'outfits', 'outing', 'outline', 'outrageous', 'outright', 'outs', 'outside', 'outstanding', 'overacting', 'overall', 'overblown', 'overboard', 'overcome', 'overdone', 'overlong', 'overlook', 'overlooked', 'overly', 'overrated', 'overwhelming', 'owen', 'owes', 'owl', 'owned', 'owner', 'owners', 'owns', 'oz', 'pace', 'paced', 'pacific', 'pacing', 'pacino', 'pack', 'package', 'packed', 'packs', 'pad', 'page', 'pages', 'paid', 'pain', 'painful', 'painfully', 'pains', 'paint', 'painted', 'painter', 'painting', 'paintings', 'paints', 'pair', 'pal', 'palace', 'palance', 'pale', 'palma', 'paltrow', 'pamela', 'pan', 'panic', 'pans', 'pants', 'paper', 'papers', 'par', 'parade', 'paradise', 'parallel', 'parallels', 'paramount', 'paranoia', 'paranoid', 'parent', 'parents', 'paris', 'park', 'parker', 'parking', 'parody', 'parsons', 'part', 'partially', 'particular', 'particularly', 'parties', 'partly', 'partner', 'partners', 'parts', 'party', 'pass', 'passable', 'passage', 'passed', 'passengers', 'passes', 'passing', 'passion', 'passionate', 'past', 'pat', 'path', 'pathetic', 'pathos', 'patience', 'patient', 'patients', 'patricia', 'patrick', 'pattern', 'paul', 'paula', 'paulie', 'pause', 'paxton', 'pay', 'paying', 'pays', 'pc', 'peace', 'peaceful', 'peak', 'pearl', 'peck', 'peculiar', 'pedestrian', 'pegg', 'pen', 'penelope', 'penn', 'penny', 'people', 'peoples', 'per', 'perception', 'perfect', 'perfection', 'perfectly', 'perform', 'performance', 'performances', 'performed', 'performer', 'performers', 'performing', 'performs', 'perhaps', 'period', 'perry', 'person', 'persona', 'personal', 'personalities', 'personality', 'personally', 'persons', 'perspective', 'pet', 'pete', 'peter', 'peters', 'petty', 'pfeiffer', 'pg', 'phantom', 'phase', 'phenomenal', 'phenomenon', 'phil', 'philip', 'phillip', 'phillips', 'philosophical', 'philosophy', 'phoenix', 'phone', 'phony', 'photo', 'photographed', 'photographer', 'photographs', 'photography', 'photos', 'phrase', 'physical', 'physically', 'physics', 'piano', 'pick', 'picked', 'pickford', 'picking', 'picks', 'picture', 'pictures', 'pie', 'piece', 'pieces', 'pierce', 'pierre', 'pig', 'pile', 'pilot', 'pin', 'pink', 'pirate', 'pirates', 'pit', 'pitch', 'pitiful', 'pitt', 'pity', 'pixar', 'place', 'placed', 'places', 'plague', 'plain', 'plan', 'plane', 'planes', 'planet', 'planned', 'planning', 'plans', 'plant', 'plastic', 'plausible', 'play', 'playboy', 'played', 'player', 'players', 'playing', 'plays', 'playwright', 'pleasant', 'pleasantly', 'please', 'pleased', 'pleasing', 'pleasure', 'plenty', 'plight', 'plodding', 'plot', 'plots', 'plotting', 'plus', 'pocket', 'poe', 'poem', 'poetic', 'poetry', 'poignant', 'point', 'pointed', 'pointing', 'pointless', 'points', 'poison', 'pokemon', 'poker', 'polanski', 'pole', 'police', 'policeman', 'policy', 'polish', 'polished', 'political', 'politically', 'politician', 'politics', 'polly', 'pool', 'poor', 'poorly', 'pop', 'popcorn', 'popping', 'pops', 'popular', 'popularity', 'populated', 'population', 'porn', 'porno', 'porter', 'portion', 'portrait', 'portray', 'portrayal', 'portrayals', 'portrayed', 'portraying', 'portrays', 'poses', 'posey', 'posing', 'position', 'positive', 'positively', 'possess', 'possessed', 'possesses', 'possession', 'possibilities', 'possibility', 'possible', 'possibly', 'post', 'posted', 'poster', 'posters', 'pot', 'potential', 'potentially', 'potter', 'pound', 'pounds', 'poverty', 'powell', 'power', 'powerful', 'powers', 'practically', 'practice', 'praise', 'praised', 'pray', 'pre', 'preachy', 'precious', 'precisely', 'predator', 'predecessor', 'predict', 'predictable', 'predictably', 'prefer', 'preferred', 'pregnant', 'prejudice', 'premiere', 'preminger', 'premise', 'prepare', 'prepared', 'preparing', 'preposterous', 'prequel', 'presence', 'present', 'presentation', 'presented', 'presenting', 'presents', 'president', 'press', 'pressure', 'preston', 'presumably', 'pretend', 'pretending', 'pretentious', 'pretty', 'prevent', 'preview', 'previews', 'previous', 'previously', 'prey', 'price', 'priceless', 'pride', 'priest', 'primarily', 'primary', 'prime', 'primitive', 'prince', 'princess', 'principal', 'principals', 'principle', 'print', 'prior', 'prison', 'prisoner', 'prisoners', 'private', 'prize', 'pro', 'probably', 'problem', 'problems', 'proceedings', 'proceeds', 'process', 'produce', 'produced', 'producer', 'producers', 'produces', 'producing', 'product', 'production', 'productions', 'products', 'profanity', 'profession', 'professional', 'professionals', 'professor', 'profound', 'program', 'programs', 'progress', 'progresses', 'project', 'projects', 'prom', 'prominent', 'promise', 'promised', 'promises', 'promising', 'promote', 'promoted', 'promptly', 'proof', 'propaganda', 'proper', 'properly', 'property', 'props', 'pros', 'prostitute', 'protagonist', 'protagonists', 'protect', 'protest', 'proud', 'prove', 'proved', 'proves', 'provide', 'provided', 'provides', 'providing', 'proving', 'provocative', 'provoking', 'ps', 'pseudo', 'psyche', 'psychiatrist', 'psychic', 'psycho', 'psychological', 'psychologist', 'psychology', 'psychopath', 'psychotic', 'public', 'publicity', 'published', 'puerto', 'pull', 'pulled', 'pulling', 'pulls', 'pulp', 'pumbaa', 'pun', 'punch', 'punches', 'punishment', 'punk', 'puppet', 'puppets', 'puppy', 'purchase', 'purchased', 'pure', 'purely', 'purple', 'purpose', 'purposes', 'pursue', 'pursued', 'pursuit', 'push', 'pushed', 'pushes', 'pushing', 'put', 'puts', 'putting', 'puzzle', 'python', 'quaid', 'qualities', 'quality', 'quantum', 'quarter', 'queen', 'quentin', 'quest', 'question', 'questionable', 'questions', 'quick', 'quickly', 'quiet', 'quietly', 'quinn', 'quirky', 'quit', 'quite', 'quote', 'quotes', 'rabbit', 'race', 'races', 'rachel', 'racial', 'racing', 'racism', 'racist', 'radical', 'radio', 'rage', 'rain', 'raines', 'rainy', 'raise', 'raised', 'raises', 'raising', 'raj', 'ralph', 'ram', 'rambling', 'rambo', 'ramones', 'rampage', 'ran', 'ranch', 'randolph', 'random', 'randomly', 'randy', 'range', 'rangers', 'rank', 'ranks', 'rap', 'rape', 'raped', 'rapid', 'rapidly', 'rapist', 'rare', 'rarely', 'rat', 'rate', 'rated', 'rates', 'rather', 'rating', 'ratings', 'rational', 'rats', 'ratso', 'rave', 'raw', 'ray', 'raymond', 'razor', 'rd', 'rea', 'reach', 'reached', 'reaches', 'reaching', 'react', 'reaction', 'reactions', 'read', 'reader', 'readers', 'readily', 'reading', 'reads', 'ready', 'real', 'realise', 'realised', 'realism', 'realistic', 'realistically', 'realities', 'reality', 'realization', 'realize', 'realized', 'realizes', 'realizing', 'really', 'realm', 'rear', 'reason', 'reasonable', 'reasonably', 'reasons', 'rebel', 'rebellious', 'recall', 'receive', 'received', 'receives', 'receiving', 'recent', 'recently', 'recognition', 'recognizable', 'recognize', 'recognized', 'recommend', 'recommendation', 'recommended', 'record', 'recorded', 'recording', 'records', 'recycled', 'red', 'redeem', 'redeeming', 'redemption', 'redneck', 'reduced', 'redundant', 'reed', 'reel', 'reeve', 'reeves', 'refer', 'reference', 'references', 'referred', 'referring', 'refers', 'reflect', 'reflection', 'reflects', 'refreshing', 'refuse', 'refused', 'refuses', 'regard', 'regarded', 'regarding', 'regardless', 'regards', 'region', 'regret', 'regular', 'regularly', 'reid', 'reign', 'reiser', 'rejected', 'rejects', 'relate', 'related', 'relating', 'relation', 'relations', 'relationship', 'relationships', 'relative', 'relatively', 'relatives', 'relax', 'release', 'released', 'releases', 'releasing', 'relentless', 'relentlessly', 'relevance', 'relevant', 'reliable', 'relief', 'relies', 'religion', 'religious', 'reluctant', 'rely', 'remade', 'remain', 'remained', 'remaining', 'remains', 'remake', 'remakes', 'remarkable', 'remarkably', 'remarks', 'remember', 'remembered', 'remembering', 'remembers', 'remind', 'reminded', 'reminder', 'reminds', 'reminiscent', 'remote', 'remotely', 'remove', 'removed', 'renaissance', 'rendered', 'rendition', 'rent', 'rental', 'rented', 'renting', 'repeat', 'repeated', 'repeatedly', 'repeating', 'repetitive', 'replace', 'replaced', 'replacement', 'replies', 'report', 'reporter', 'reports', 'represent', 'representation', 'represented', 'represents', 'repressed', 'republic', 'repulsive', 'reputation', 'require', 'required', 'requires', 'rescue', 'rescued', 'research', 'resemblance', 'resemble', 'resembles', 'resident', 'residents', 'resist', 'resolution', 'resolved', 'resort', 'resources', 'respect', 'respectable', 'respected', 'respective', 'respectively', 'respects', 'response', 'responsibility', 'responsible', 'rest', 'restaurant', 'restored', 'restrained', 'result', 'resulted', 'resulting', 'results', 'retarded', 'retired', 'return', 'returned', 'returning', 'returns', 'reunion', 'reveal', 'revealed', 'revealing', 'reveals', 'revelation', 'revenge', 'reverse', 'review', 'reviewed', 'reviewer', 'reviewers', 'reviewing', 'reviews', 'revolt', 'revolution', 'revolutionary', 'revolves', 'reward', 'rewarding', 'rex', 'reynolds', 'rhythm', 'rice', 'rich', 'richard', 'richards', 'richardson', 'rick', 'ricky', 'rid', 'ridden', 'ride', 'rider', 'rides', 'ridiculous', 'ridiculously', 'riding', 'rifle', 'right', 'rights', 'ring', 'rings', 'riot', 'rip', 'ripped', 'ripping', 'rips', 'rise', 'rises', 'rising', 'risk', 'rita', 'ritchie', 'ritter', 'ritual', 'rival', 'river', 'rivers', 'riveting', 'road', 'rob', 'robbers', 'robbery', 'robbins', 'robert', 'roberts', 'robertson', 'robin', 'robinson', 'robot', 'robots', 'rochester', 'rock', 'rocket', 'rocks', 'rocky', 'rod', 'roger', 'rogers', 'role', 'roles', 'roll', 'rolled', 'roller', 'rolling', 'roman', 'romance', 'romances', 'romantic', 'rome', 'romeo', 'romero', 'romp', 'ron', 'ronald', 'roof', 'rookie', 'room', 'roommate', 'rooms', 'rooney', 'root', 'rooting', 'roots', 'rope', 'rosario', 'rose', 'rosemary', 'ross', 'roth', 'rotten', 'rough', 'roughly', 'round', 'rounded', 'route', 'routine', 'routines', 'row', 'rowlands', 'roy', 'royal', 'rubber', 'rubbish', 'ruby', 'rude', 'ruin', 'ruined', 'ruining', 'ruins', 'rukh', 'rule', 'rules', 'run', 'runner', 'running', 'runs', 'rural', 'rush', 'rushed', 'russell', 'russia', 'russian', 'ruth', 'ruthless', 'ryan', 'sabrina', 'sacrifice', 'sad', 'sadistic', 'sadly', 'sadness', 'safe', 'safety', 'saga', 'said', 'sailor', 'saint', 'sake', 'sale', 'salesman', 'sally', 'salman', 'saloon', 'salt', 'salvation', 'sam', 'samantha', 'sammo', 'samurai', 'san', 'sand', 'sanders', 'sandler', 'sandra', 'sang', 'santa', 'sappy', 'sarah', 'sarandon', 'sarcasm', 'sarcastic', 'sassy', 'sat', 'satan', 'satire', 'satirical', 'satisfaction', 'satisfied', 'satisfy', 'satisfying', 'saturday', 'savage', 'save', 'saved', 'saves', 'saving', 'saw', 'say', 'saying', 'says', 'scale', 'scare', 'scarecrow', 'scared', 'scares', 'scarface', 'scariest', 'scary', 'scenario', 'scene', 'scenery', 'scenes', 'schedule', 'scheme', 'schlock', 'schneider', 'school', 'schools', 'sci', 'science', 'scientific', 'scientist', 'scientists', 'scifi', 'scooby', 'scoop', 'scope', 'score', 'scored', 'scores', 'scorsese', 'scotland', 'scott', 'scottish', 'scratch', 'scream', 'screaming', 'screams', 'screen', 'screening', 'screenplay', 'screens', 'screenwriter', 'screenwriters', 'screw', 'screwball', 'screwed', 'script', 'scripted', 'scripting', 'scripts', 'scrooge', 'se', 'sea', 'seagal', 'sean', 'search', 'searching', 'season', 'seasoned', 'seasons', 'seat', 'seats', 'sebastian', 'second', 'secondary', 'secondly', 'seconds', 'secret', 'secretary', 'secretly', 'secrets', 'section', 'security', 'seductive', 'see', 'seed', 'seedy', 'seeing', 'seek', 'seeking', 'seeks', 'seem', 'seemed', 'seeming', 'seemingly', 'seems', 'seen', 'sees', 'segment', 'segments', 'seldom', 'selected', 'selection', 'self', 'selfish', 'sell', 'sellers', 'selling', 'sells', 'semi', 'send', 'sending', 'sends', 'senior', 'sense', 'senseless', 'senses', 'sensible', 'sensitive', 'sent', 'sentence', 'sentences', 'sentiment', 'sentimental', 'sentimentality', 'sentinel', 'separate', 'separated', 'september', 'sequel', 'sequels', 'sequence', 'sequences', 'sergeant', 'serial', 'serials', 'series', 'serious', 'seriously', 'serum', 'servant', 'servants', 'serve', 'served', 'serves', 'service', 'serving', 'session', 'set', 'sets', 'setting', 'settings', 'settle', 'settled', 'setup', 'seven', 'seventies', 'several', 'severe', 'severed', 'severely', 'sex', 'sexual', 'sexuality', 'sexually', 'sexy', 'seymour', 'sf', 'sg', 'sgt', 'sh', 'shades', 'shadow', 'shadows', 'shaggy', 'shah', 'shake', 'shakespeare', 'shaking', 'shaky', 'shall', 'shallow', 'shame', 'shanghai', 'shape', 'shaped', 'share', 'shared', 'shares', 'sharing', 'shark', 'sharon', 'sharp', 'shaw', 'shed', 'sheen', 'sheer', 'shelf', 'shell', 'shelley', 'shepard', 'shepherd', 'sheriff', 'shift', 'shifts', 'shine', 'shines', 'shining', 'ship', 'ships', 'shirley', 'shirt', 'shock', 'shocked', 'shocking', 'shockingly', 'shoddy', 'shoe', 'shoes', 'shoot', 'shooting', 'shootout', 'shoots', 'shop', 'shopping', 'shore', 'short', 'shortcomings', 'shorter', 'shortly', 'shorts', 'shot', 'shots', 'shoulder', 'shoulders', 'shouting', 'show', 'showcase', 'showdown', 'showed', 'shower', 'showing', 'shown', 'shows', 'shut', 'shy', 'siblings', 'sick', 'sickening', 'sid', 'side', 'sided', 'sidekick', 'sides', 'sidewalk', 'sidney', 'sight', 'sign', 'signed', 'significance', 'significant', 'signs', 'silence', 'silent', 'silliness', 'silly', 'silver', 'similar', 'similarities', 'similarly', 'simmons', 'simon', 'simple', 'simplicity', 'simplistic', 'simply', 'simpson', 'simpsons', 'simultaneously', 'sin', 'sinatra', 'since', 'sincere', 'sincerely', 'sing', 'singer', 'singers', 'singing', 'single', 'sings', 'sinister', 'sink', 'sinking', 'sir', 'sirk', 'sissy', 'sister', 'sisters', 'sit', 'sitcom', 'site', 'sits', 'sitting', 'situation', 'situations', 'six', 'sixth', 'sixties', 'size', 'sized', 'sketch', 'skill', 'skilled', 'skills', 'skin', 'skinny', 'skip', 'skit', 'skits', 'skull', 'sky', 'slap', 'slapped', 'slapstick', 'slasher', 'slaughter', 'slave', 'slaves', 'sleaze', 'sleazy', 'sleep', 'sleeping', 'sleeps', 'slice', 'slick', 'slide', 'slight', 'slightest', 'slightly', 'slim', 'slimy', 'slip', 'sloppy', 'slow', 'slowly', 'slugs', 'sly', 'small', 'smaller', 'smart', 'smash', 'smile', 'smiles', 'smiling', 'smith', 'smoke', 'smoking', 'smooth', 'snake', 'snakes', 'sneak', 'sniper', 'snipes', 'snl', 'snow', 'snowman', 'snuff', 'soap', 'soccer', 'social', 'society', 'soderbergh', 'soft', 'sold', 'soldier', 'soldiers', 'sole', 'solely', 'solid', 'solo', 'solution', 'solve', 'somebody', 'someday', 'somehow', 'someone', 'something', 'sometime', 'sometimes', 'somewhat', 'somewhere', 'son', 'sondra', 'song', 'songs', 'sons', 'soon', 'sooner', 'sophie', 'sophisticated', 'soprano', 'sopranos', 'sorely', 'sorry', 'sort', 'sorts', 'sought', 'soul', 'souls', 'sound', 'sounded', 'sounding', 'sounds', 'soundtrack', 'soup', 'source', 'sources', 'south', 'southern', 'soviet', 'sox', 'soylent', 'space', 'spacey', 'spaghetti', 'spain', 'span', 'spanish', 'spare', 'spark', 'speak', 'speaking', 'speaks', 'special', 'specially', 'species', 'specific', 'specifically', 'spectacle', 'spectacular', 'speech', 'speeches', 'speed', 'spell', 'spencer', 'spend', 'spending', 'spends', 'spent', 'spice', 'spider', 'spielberg', 'spies', 'spike', 'spin', 'spinal', 'spine', 'spirit', 'spirited', 'spirits', 'spiritual', 'spit', 'spite', 'splatter', 'splendid', 'split', 'spock', 'spoil', 'spoiled', 'spoiler', 'spoilers', 'spoke', 'spoken', 'spoof', 'spooky', 'sport', 'sports', 'spot', 'spots', 'spread', 'spree', 'spring', 'springer', 'spy', 'squad', 'square', 'st', 'stabbed', 'stack', 'staff', 'stage', 'staged', 'stages', 'stairs', 'stale', 'stalked', 'stalker', 'stalking', 'stallone', 'stan', 'stance', 'stand', 'standard', 'standards', 'standing', 'standout', 'stands', 'stanley', 'stanwyck', 'star', 'stardom', 'stardust', 'stare', 'stargate', 'staring', 'stark', 'starred', 'starring', 'stars', 'start', 'started', 'starters', 'starting', 'startling', 'starts', 'state', 'stated', 'statement', 'statements', 'states', 'static', 'stating', 'station', 'statue', 'status', 'stay', 'stayed', 'staying', 'stays', 'steady', 'steal', 'stealing', 'steals', 'steam', 'steel', 'steele', 'steer', 'stella', 'stellar', 'step', 'stephanie', 'stephen', 'steps', 'stereotype', 'stereotypes', 'stereotypical', 'sterling', 'stern', 'steve', 'steven', 'stevens', 'stewart', 'stick', 'sticking', 'sticks', 'stiff', 'stiles', 'still', 'stiller', 'stilted', 'stink', 'stinker', 'stinks', 'stock', 'stole', 'stolen', 'stomach', 'stone', 'stones', 'stood', 'stooges', 'stop', 'stopped', 'stopping', 'stops', 'store', 'stores', 'stories', 'storm', 'story', 'storyline', 'storytelling', 'straight', 'straightforward', 'stranded', 'strange', 'strangely', 'stranger', 'strangers', 'stream', 'streep', 'street', 'streets', 'streisand', 'strength', 'strengths', 'stress', 'stretch', 'stretched', 'strict', 'strictly', 'strike', 'strikes', 'striking', 'string', 'strings', 'strip', 'stroke', 'strong', 'stronger', 'strongest', 'strongly', 'struck', 'structure', 'struggle', 'struggles', 'struggling', 'stuart', 'stuck', 'student', 'students', 'studies', 'studio', 'studios', 'study', 'studying', 'stuff', 'stumbled', 'stumbles', 'stunned', 'stunning', 'stunningly', 'stunt', 'stunts', 'stupid', 'stupidity', 'style', 'styles', 'stylish', 'stylized', 'sub', 'subject', 'subjected', 'subjects', 'sublime', 'subplot', 'subplots', 'subsequent', 'substance', 'subtext', 'subtitles', 'subtle', 'subtlety', 'subtly', 'suburban', 'subway', 'succeed', 'succeeded', 'succeeds', 'success', 'successful', 'successfully', 'suck', 'sucked', 'sucker', 'sucks', 'sudden', 'suddenly', 'sue', 'suffer', 'suffered', 'suffering', 'suffers', 'suffice', 'sugar', 'suggest', 'suggested', 'suggesting', 'suggestion', 'suggests', 'suicide', 'suit', 'suitable', 'suitably', 'suited', 'suits', 'sullivan', 'sum', 'summary', 'summer', 'sums', 'sun', 'sundance', 'sunday', 'sung', 'sunny', 'sunrise', 'sunshine', 'super', 'superb', 'superbly', 'superficial', 'superhero', 'superior', 'superman', 'supernatural', 'supply', 'support', 'supported', 'supporting', 'suppose', 'supposed', 'supposedly', 'sure', 'surely', 'surface', 'surfing', 'surgery', 'surprise', 'surprised', 'surprises', 'surprising', 'surprisingly', 'surreal', 'surrounded', 'surrounding', 'surroundings', 'survival', 'survive', 'survived', 'survives', 'surviving', 'survivor', 'survivors', 'susan', 'suspect', 'suspected', 'suspects', 'suspend', 'suspense', 'suspenseful', 'suspension', 'suspicion', 'suspicious', 'sutherland', 'swallow', 'swear', 'swearing', 'sweat', 'sweden', 'swedish', 'sweet', 'swept', 'swim', 'swimming', 'swing', 'swinging', 'switch', 'switched', 'sword', 'sydney', 'symbol', 'symbolic', 'symbolism', 'sympathetic', 'sympathize', 'sympathy', 'syndrome', 'synopsis', 'system', 'table', 'taboo', 'tacky', 'tactics', 'tad', 'tag', 'tail', 'take', 'taken', 'takes', 'taking', 'tale', 'talent', 'talented', 'talents', 'tales', 'talk', 'talked', 'talking', 'talks', 'tall', 'tame', 'tank', 'tap', 'tape', 'taped', 'tapes', 'tara', 'tarantino', 'target', 'targets', 'tarzan', 'task', 'taste', 'tasteless', 'tastes', 'taught', 'tax', 'taxi', 'taylor', 'tcm', 'tea', 'teach', 'teacher', 'teachers', 'teaches', 'teaching', 'team', 'teams', 'tear', 'tears', 'tech', 'technical', 'technically', 'technicolor', 'technique', 'techniques', 'technology', 'ted', 'tedious', 'teen', 'teenage', 'teenager', 'teenagers', 'teens', 'teeth', 'television', 'tell', 'telling', 'tells', 'temple', 'tempted', 'ten', 'tenant', 'tend', 'tendency', 'tender', 'tends', 'tense', 'tension', 'term', 'terminator', 'terms', 'terrible', 'terribly', 'terrific', 'terrified', 'terrifying', 'territory', 'terror', 'terrorist', 'terrorists', 'terry', 'test', 'testament', 'texas', 'text', 'th', 'thank', 'thankfully', 'thanks', 'thats', 'theater', 'theaters', 'theatre', 'theatrical', 'thelma', 'theme', 'themed', 'themes', 'theories', 'theory', 'therapy', 'therefore', 'thick', 'thief', 'thieves', 'thin', 'thing', 'things', 'think', 'thinking', 'thinks', 'third', 'thirties', 'thirty', 'tho', 'thomas', 'thompson', 'thoroughly', 'though', 'thought', 'thoughtful', 'thoughts', 'thousand', 'thousands', 'thread', 'threat', 'threatened', 'threatening', 'threatens', 'three', 'threw', 'thrill', 'thrilled', 'thriller', 'thrillers', 'thrilling', 'thrills', 'throat', 'throughout', 'throw', 'throwing', 'thrown', 'throws', 'thru', 'thugs', 'thumbs', 'thunderbirds', 'thurman', 'thus', 'ticket', 'tickets', 'tie', 'tied', 'tierney', 'ties', 'tiger', 'tight', 'till', 'tim', 'timberlake', 'time', 'timeless', 'times', 'timing', 'timmy', 'timon', 'timothy', 'tiny', 'tip', 'tired', 'tiresome', 'titanic', 'title', 'titled', 'titles', 'toby', 'today', 'todd', 'together', 'toilet', 'token', 'tokyo', 'told', 'tolerable', 'tom', 'tomatoes', 'tomb', 'tomei', 'tommy', 'tomorrow', 'ton', 'tone', 'toned', 'tongue', 'toni', 'tonight', 'tons', 'tony', 'took', 'tool', 'tooth', 'top', 'topic', 'topics', 'topless', 'tops', 'tormented', 'torn', 'toronto', 'torture', 'tortured', 'tossed', 'total', 'totally', 'touch', 'touched', 'touches', 'touching', 'tough', 'tour', 'tourist', 'toward', 'towards', 'tower', 'towers', 'town', 'toy', 'toys', 'trace', 'track', 'tracking', 'tracks', 'tracy', 'trade', 'trademark', 'tradition', 'traditional', 'traffic', 'tragedy', 'tragic', 'trail', 'trailer', 'trailers', 'train', 'trained', 'training', 'trains', 'traits', 'transfer', 'transformation', 'transformed', 'transition', 'translate', 'translated', 'translation', 'trap', 'trapped', 'trash', 'trashy', 'travel', 'traveling', 'travels', 'travesty', 'treasure', 'treat', 'treated', 'treatment', 'treats', 'tree', 'trees', 'trek', 'tremendous', 'tremendously', 'trend', 'trial', 'trials', 'triangle', 'tribe', 'tribute', 'trick', 'tricks', 'tried', 'trier', 'tries', 'trigger', 'trilogy', 'trio', 'trip', 'tripe', 'triple', 'trite', 'triumph', 'trivia', 'troma', 'troops', 'trouble', 'troubled', 'troubles', 'truck', 'true', 'truly', 'truman', 'trust', 'truth', 'truths', 'try', 'trying', 'tube', 'tune', 'tuned', 'tunes', 'tunnel', 'turd', 'turkey', 'turmoil', 'turn', 'turned', 'turner', 'turning', 'turns', 'tv', 'twelve', 'twenty', 'twice', 'twilight', 'twin', 'twins', 'twist', 'twisted', 'twists', 'two', 'tyler', 'type', 'types', 'typical', 'typically', 'ugh', 'ugly', 'uh', 'uk', 'ultimate', 'ultimately', 'ultimatum', 'ultra', 'um', 'uma', 'un', 'unable', 'unanswered', 'unattractive', 'unaware', 'unbearable', 'unbelievable', 'unbelievably', 'uncanny', 'uncle', 'uncomfortable', 'unconvincing', 'uncut', 'undead', 'undeniably', 'underground', 'underlying', 'underneath', 'underrated', 'understand', 'understandable', 'understanding', 'understands', 'understated', 'understood', 'underwater', 'underwear', 'underworld', 'undoubtedly', 'uneven', 'unexpected', 'unexpectedly', 'unexplained', 'unfair', 'unfold', 'unfolds', 'unforgettable', 'unfortunate', 'unfortunately', 'unfunny', 'unhappy', 'uniform', 'uniformly', 'uniforms', 'unimaginative', 'uninspired', 'unintentional', 'unintentionally', 'uninteresting', 'union', 'unique', 'unit', 'united', 'universal', 'universe', 'university', 'unknown', 'unless', 'unlikable', 'unlike', 'unlikeable', 'unlikely', 'unnecessary', 'unoriginal', 'unpleasant', 'unpredictable', 'unreal', 'unrealistic', 'unrelated', 'unsatisfying', 'unseen', 'unsettling', 'unsure', 'unsuspecting', 'unsympathetic', 'unusual', 'unusually', 'unwatchable', 'update', 'updated', 'uplifting', 'upon', 'upper', 'ups', 'upset', 'upside', 'urban', 'urge', 'us', 'usa', 'use', 'used', 'useful', 'useless', 'user', 'users', 'uses', 'using', 'ustinov', 'usual', 'usually', 'utter', 'utterly', 'uwe', 'vacation', 'vader', 'vague', 'vaguely', 'vain', 'valentine', 'valley', 'valuable', 'value', 'values', 'vampire', 'vampires', 'van', 'vance', 'vanessa', 'vanilla', 'vanity', 'varied', 'variety', 'various', 'vast', 'vastly', 'vega', 'vegas', 'vehicle', 'vehicles', 'vein', 'vengeance', 'venture', 'vera', 'verbal', 'verdict', 'verhoeven', 'version', 'versions', 'versus', 'veteran', 'vhs', 'via', 'vibrant', 'vice', 'vicious', 'victim', 'victims', 'victor', 'victoria', 'victorian', 'victory', 'video', 'videos', 'vietnam', 'view', 'viewed', 'viewer', 'viewers', 'viewing', 'viewings', 'viewpoint', 'views', 'vile', 'village', 'villain', 'villains', 'vince', 'vincent', 'vintage', 'violence', 'violent', 'virgin', 'virginia', 'virtual', 'virtually', 'virus', 'visconti', 'visible', 'vision', 'visions', 'visit', 'visited', 'visiting', 'visits', 'visual', 'visually', 'visuals', 'vital', 'vivid', 'vividly', 'vocal', 'voice', 'voiced', 'voices', 'void', 'voight', 'volume', 'vomit', 'von', 'vonnegut', 'vote', 'voted', 'votes', 'voyage', 'vs', 'vulgar', 'vulnerable', 'wacky', 'wagner', 'wait', 'waited', 'waiting', 'waitress', 'wake', 'wakes', 'walk', 'walked', 'walken', 'walker', 'walking', 'walks', 'wall', 'wallace', 'walls', 'walsh', 'walt', 'walter', 'wander', 'wandering', 'wanders', 'wang', 'wanna', 'wannabe', 'want', 'wanted', 'wanting', 'wants', 'war', 'ward', 'wardrobe', 'warm', 'warming', 'warmth', 'warn', 'warned', 'warner', 'warning', 'warns', 'warren', 'warrior', 'warriors', 'wars', 'wash', 'washed', 'washington', 'waste', 'wasted', 'wastes', 'wasting', 'watch', 'watchable', 'watched', 'watches', 'watching', 'water', 'waters', 'watson', 'wave', 'waves', 'wax', 'way', 'wayans', 'wayne', 'ways', 'weak', 'weaker', 'weakest', 'weakness', 'weaknesses', 'wealth', 'wealthy', 'weapon', 'weapons', 'wear', 'wearing', 'wears', 'weary', 'weather', 'web', 'website', 'wedding', 'week', 'weekend', 'weeks', 'weight', 'weird', 'welcome', 'well', 'welles', 'wells', 'wendigo', 'wendy', 'went', 'werewolf', 'werewolves', 'wes', 'west', 'western', 'westerns', 'wet', 'whale', 'whatever', 'whats', 'whatsoever', 'wheel', 'wheelchair', 'whenever', 'whereas', 'whether', 'whilst', 'whining', 'whiny', 'white', 'whites', 'whoever', 'whole', 'wholly', 'whoopi', 'whose', 'wicked', 'wide', 'widely', 'wider', 'widescreen', 'widmark', 'widow', 'wielding', 'wife', 'wig', 'wild', 'wilder', 'wilderness', 'wildly', 'william', 'williams', 'willie', 'willing', 'willis', 'wilson', 'win', 'winchester', 'wind', 'window', 'windows', 'winds', 'wine', 'wing', 'wings', 'winner', 'winning', 'wins', 'winter', 'winters', 'wiped', 'wire', 'wisdom', 'wise', 'wisely', 'wish', 'wished', 'wishes', 'wishing', 'wit', 'witch', 'witchcraft', 'witches', 'within', 'without', 'witness', 'witnessed', 'witnesses', 'witty', 'wives', 'wizard', 'wolf', 'woman', 'women', 'wonder', 'wondered', 'wonderful', 'wonderfully', 'wondering', 'wonderland', 'wonders', 'wong', 'wont', 'woo', 'wood', 'wooden', 'woods', 'woody', 'word', 'words', 'wore', 'work', 'worked', 'worker', 'workers', 'working', 'works', 'world', 'worlds', 'worms', 'worn', 'worried', 'worry', 'worse', 'worst', 'worth', 'worthless', 'worthwhile', 'worthy', 'would', 'wound', 'wounded', 'wounds', 'wow', 'wrap', 'wrapped', 'wreck', 'wrenching', 'wrestling', 'wretched', 'wright', 'write', 'writer', 'writers', 'writes', 'writing', 'written', 'wrong', 'wrote', 'wtf', 'ww', 'wwe', 'wwii', 'www', 'ya', 'yard', 'yawn', 'yeah', 'year', 'years', 'yelling', 'yellow', 'yep', 'yes', 'yesterday', 'yet', 'yeti', 'yokai', 'york', 'young', 'younger', 'youngest', 'youth', 'youthful', 'youtube', 'zane', 'zero', 'zizek', 'zombi', 'zombie', 'zombies', 'zone', 'zorro']\n"
     ]
    }
   ],
   "source": [
    "vocab = vectorizer.get_feature_names()\n",
    "print(vocab)"
   ]
  },
  {
   "cell_type": "code",
   "execution_count": 61,
   "metadata": {
    "ExecuteTime": {
     "end_time": "2018-07-16T09:01:57.541289Z",
     "start_time": "2018-07-16T09:01:57.533730Z"
    }
   },
   "outputs": [],
   "source": [
    "import numpy as np"
   ]
  },
  {
   "cell_type": "code",
   "execution_count": 63,
   "metadata": {
    "ExecuteTime": {
     "end_time": "2018-07-16T09:04:53.099858Z",
     "start_time": "2018-07-16T09:04:52.961584Z"
    }
   },
   "outputs": [
    {
     "name": "stdout",
     "output_type": "stream",
     "text": [
      "[ 51 187 125 ... 518 147  59]\n"
     ]
    }
   ],
   "source": [
    "dist = np.sum(train_data_features, axis=0)\n",
    "print(dist)\n",
    "\n",
    "# for tag, value in zip(vocab, dist):\n",
    "#     print(tag, value)"
   ]
  },
  {
   "cell_type": "code",
   "execution_count": 66,
   "metadata": {
    "ExecuteTime": {
     "end_time": "2018-07-16T13:03:42.788480Z",
     "start_time": "2018-07-16T13:03:42.776740Z"
    }
   },
   "outputs": [
    {
     "data": {
      "text/plain": [
       "Index(['id', 'sentiment', 'review', 'length'], dtype='object')"
      ]
     },
     "execution_count": 66,
     "metadata": {},
     "output_type": "execute_result"
    }
   ],
   "source": [
    "train.columns"
   ]
  },
  {
   "cell_type": "code",
   "execution_count": 67,
   "metadata": {
    "ExecuteTime": {
     "end_time": "2018-07-16T13:06:00.951784Z",
     "start_time": "2018-07-16T13:03:49.927586Z"
    }
   },
   "outputs": [
    {
     "name": "stdout",
     "output_type": "stream",
     "text": [
      "Training random forest classifier\n",
      "\n"
     ]
    },
    {
     "data": {
      "text/plain": [
       "RandomForestClassifier(bootstrap=True, class_weight=None, criterion='gini',\n",
       "            max_depth=None, max_features='auto', max_leaf_nodes=None,\n",
       "            min_impurity_decrease=0.0, min_impurity_split=None,\n",
       "            min_samples_leaf=1, min_samples_split=2,\n",
       "            min_weight_fraction_leaf=0.0, n_estimators=100, n_jobs=1,\n",
       "            oob_score=False, random_state=None, verbose=0,\n",
       "            warm_start=False)"
      ]
     },
     "execution_count": 67,
     "metadata": {},
     "output_type": "execute_result"
    }
   ],
   "source": [
    "print('Training random forest classifier\\n')\n",
    "from sklearn.ensemble import RandomForestClassifier\n",
    "\n",
    "clf = RandomForestClassifier(n_estimators=100)\n",
    "clf.fit(train_data_features, train['sentiment'])"
   ]
  },
  {
   "cell_type": "code",
   "execution_count": 68,
   "metadata": {
    "ExecuteTime": {
     "end_time": "2018-07-16T13:07:28.932333Z",
     "start_time": "2018-07-16T13:07:28.062145Z"
    }
   },
   "outputs": [],
   "source": [
    "test = pd.read_csv('testData.tsv', sep='\\t', header=0, quoting=3)"
   ]
  },
  {
   "cell_type": "code",
   "execution_count": 70,
   "metadata": {
    "ExecuteTime": {
     "end_time": "2018-07-16T13:11:26.243770Z",
     "start_time": "2018-07-16T13:11:26.224979Z"
    }
   },
   "outputs": [
    {
     "data": {
      "text/html": [
       "<div>\n",
       "<style scoped>\n",
       "    .dataframe tbody tr th:only-of-type {\n",
       "        vertical-align: middle;\n",
       "    }\n",
       "\n",
       "    .dataframe tbody tr th {\n",
       "        vertical-align: top;\n",
       "    }\n",
       "\n",
       "    .dataframe thead th {\n",
       "        text-align: right;\n",
       "    }\n",
       "</style>\n",
       "<table border=\"1\" class=\"dataframe\">\n",
       "  <thead>\n",
       "    <tr style=\"text-align: right;\">\n",
       "      <th></th>\n",
       "      <th>id</th>\n",
       "      <th>review</th>\n",
       "    </tr>\n",
       "  </thead>\n",
       "  <tbody>\n",
       "    <tr>\n",
       "      <th>0</th>\n",
       "      <td>\"12311_10\"</td>\n",
       "      <td>\"Naturally in a film who's main themes are of ...</td>\n",
       "    </tr>\n",
       "    <tr>\n",
       "      <th>1</th>\n",
       "      <td>\"8348_2\"</td>\n",
       "      <td>\"This movie is a disaster within a disaster fi...</td>\n",
       "    </tr>\n",
       "    <tr>\n",
       "      <th>2</th>\n",
       "      <td>\"5828_4\"</td>\n",
       "      <td>\"All in all, this is a movie for kids. We saw ...</td>\n",
       "    </tr>\n",
       "    <tr>\n",
       "      <th>3</th>\n",
       "      <td>\"7186_2\"</td>\n",
       "      <td>\"Afraid of the Dark left me with the impressio...</td>\n",
       "    </tr>\n",
       "    <tr>\n",
       "      <th>4</th>\n",
       "      <td>\"12128_7\"</td>\n",
       "      <td>\"A very accurate depiction of small time mob l...</td>\n",
       "    </tr>\n",
       "  </tbody>\n",
       "</table>\n",
       "</div>"
      ],
      "text/plain": [
       "           id                                             review\n",
       "0  \"12311_10\"  \"Naturally in a film who's main themes are of ...\n",
       "1    \"8348_2\"  \"This movie is a disaster within a disaster fi...\n",
       "2    \"5828_4\"  \"All in all, this is a movie for kids. We saw ...\n",
       "3    \"7186_2\"  \"Afraid of the Dark left me with the impressio...\n",
       "4   \"12128_7\"  \"A very accurate depiction of small time mob l..."
      ]
     },
     "execution_count": 70,
     "metadata": {},
     "output_type": "execute_result"
    }
   ],
   "source": [
    "test.head()"
   ]
  },
  {
   "cell_type": "code",
   "execution_count": 71,
   "metadata": {
    "ExecuteTime": {
     "end_time": "2018-07-16T13:12:08.804123Z",
     "start_time": "2018-07-16T13:11:40.987240Z"
    }
   },
   "outputs": [
    {
     "name": "stdout",
     "output_type": "stream",
     "text": [
      "Clearning and parsing test data\n",
      "\n",
      "Running 0 of 25000 datasets\n"
     ]
    },
    {
     "name": "stderr",
     "output_type": "stream",
     "text": [
      "/home/aadi/prog/MachineLearningJourneyandProjects(learning phase)/venv/lib/python3.6/site-packages/bs4/__init__.py:181: UserWarning: No parser was explicitly specified, so I'm using the best available HTML parser for this system (\"lxml\"). This usually isn't a problem, but if you run this code on another system, or in a different virtual environment, it may use a different parser and behave differently.\n",
      "\n",
      "The code that caused this warning is on line 193 of the file /usr/lib/python3.6/runpy.py. To get rid of this warning, change code that looks like this:\n",
      "\n",
      " BeautifulSoup(YOUR_MARKUP})\n",
      "\n",
      "to this:\n",
      "\n",
      " BeautifulSoup(YOUR_MARKUP, \"lxml\")\n",
      "\n",
      "  markup_type=markup_type))\n"
     ]
    },
    {
     "name": "stdout",
     "output_type": "stream",
     "text": [
      "Running 1000 of 25000 datasets\n",
      "Running 2000 of 25000 datasets\n",
      "Running 3000 of 25000 datasets\n",
      "Running 4000 of 25000 datasets\n",
      "Running 5000 of 25000 datasets\n",
      "Running 6000 of 25000 datasets\n",
      "Running 7000 of 25000 datasets\n",
      "Running 8000 of 25000 datasets\n",
      "Running 9000 of 25000 datasets\n",
      "Running 10000 of 25000 datasets\n",
      "Running 11000 of 25000 datasets\n",
      "Running 12000 of 25000 datasets\n",
      "Running 13000 of 25000 datasets\n",
      "Running 14000 of 25000 datasets\n",
      "Running 15000 of 25000 datasets\n",
      "Running 16000 of 25000 datasets\n",
      "Running 17000 of 25000 datasets\n",
      "Running 18000 of 25000 datasets\n",
      "Running 19000 of 25000 datasets\n",
      "Running 20000 of 25000 datasets\n",
      "Running 21000 of 25000 datasets\n",
      "Running 22000 of 25000 datasets\n",
      "Running 23000 of 25000 datasets\n",
      "Running 24000 of 25000 datasets\n"
     ]
    }
   ],
   "source": [
    "clean_test_reviews = []\n",
    "print('Clearning and parsing test data\\n')\n",
    "for i in range(test.shape[0]):\n",
    "    if i%1000 == 0: \n",
    "        print('Running {} of {} datasets'.format(i, test.shape[0]))\n",
    "    clean_test_reviews.append(text_process(test['review'][i]))\n",
    "        \n"
   ]
  },
  {
   "cell_type": "code",
   "execution_count": 72,
   "metadata": {
    "ExecuteTime": {
     "end_time": "2018-07-16T13:13:50.619828Z",
     "start_time": "2018-07-16T13:13:46.499041Z"
    }
   },
   "outputs": [],
   "source": [
    "test_data_features = vectorizer.transform(clean_test_reviews)\n",
    "test_data_features = test_data_features.toarray()"
   ]
  },
  {
   "cell_type": "code",
   "execution_count": 73,
   "metadata": {
    "ExecuteTime": {
     "end_time": "2018-07-16T13:14:57.037818Z",
     "start_time": "2018-07-16T13:14:22.731115Z"
    }
   },
   "outputs": [],
   "source": [
    "pred = clf.predict(test_data_features)"
   ]
  },
  {
   "cell_type": "code",
   "execution_count": null,
   "metadata": {},
   "outputs": [],
   "source": []
  }
 ],
 "metadata": {
  "kernelspec": {
   "display_name": "Python 3",
   "language": "python",
   "name": "python3"
  },
  "language_info": {
   "codemirror_mode": {
    "name": "ipython",
    "version": 3
   },
   "file_extension": ".py",
   "mimetype": "text/x-python",
   "name": "python",
   "nbconvert_exporter": "python",
   "pygments_lexer": "ipython3",
   "version": "3.6.5"
  },
  "toc": {
   "base_numbering": 1,
   "nav_menu": {},
   "number_sections": true,
   "sideBar": true,
   "skip_h1_title": false,
   "title_cell": "Table of Contents",
   "title_sidebar": "Contents",
   "toc_cell": false,
   "toc_position": {},
   "toc_section_display": true,
   "toc_window_display": false
  },
  "varInspector": {
   "cols": {
    "lenName": 16,
    "lenType": 16,
    "lenVar": 40
   },
   "kernels_config": {
    "python": {
     "delete_cmd_postfix": "",
     "delete_cmd_prefix": "del ",
     "library": "var_list.py",
     "varRefreshCmd": "print(var_dic_list())"
    },
    "r": {
     "delete_cmd_postfix": ") ",
     "delete_cmd_prefix": "rm(",
     "library": "var_list.r",
     "varRefreshCmd": "cat(var_dic_list()) "
    }
   },
   "types_to_exclude": [
    "module",
    "function",
    "builtin_function_or_method",
    "instance",
    "_Feature"
   ],
   "window_display": false
  }
 },
 "nbformat": 4,
 "nbformat_minor": 2
}
